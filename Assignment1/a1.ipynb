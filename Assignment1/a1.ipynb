{
 "cells": [
  {
   "cell_type": "markdown",
   "metadata": {},
   "source": [
    "# STA3301 - Semester 2, 2019 - Assignent 1\n",
    "\n",
    "### Enrique Bustamante\n",
    "### u1034971"
   ]
  },
  {
   "cell_type": "code",
   "execution_count": 1,
   "metadata": {},
   "outputs": [],
   "source": [
    "import pandas as pd\n",
    "import numpy as np\n",
    "import altair as alt\n",
    "import statsmodels.api as sm\n",
    "import statsmodels.formula.api as smf\n",
    "from math import log\n",
    "from itertools import combinations\n",
    "import copy"
   ]
  },
  {
   "cell_type": "markdown",
   "metadata": {},
   "source": [
    "## Question 1"
   ]
  },
  {
   "cell_type": "code",
   "execution_count": 2,
   "metadata": {},
   "outputs": [
    {
     "data": {
      "text/html": [
       "<div>\n",
       "<style scoped>\n",
       "    .dataframe tbody tr th:only-of-type {\n",
       "        vertical-align: middle;\n",
       "    }\n",
       "\n",
       "    .dataframe tbody tr th {\n",
       "        vertical-align: top;\n",
       "    }\n",
       "\n",
       "    .dataframe thead th {\n",
       "        text-align: right;\n",
       "    }\n",
       "</style>\n",
       "<table border=\"1\" class=\"dataframe\">\n",
       "  <thead>\n",
       "    <tr style=\"text-align: right;\">\n",
       "      <th></th>\n",
       "      <th>ers</th>\n",
       "      <th>brs</th>\n",
       "      <th>ebrs</th>\n",
       "      <th>hfe</th>\n",
       "    </tr>\n",
       "  </thead>\n",
       "  <tbody>\n",
       "    <tr>\n",
       "      <th>0</th>\n",
       "      <td>14.62</td>\n",
       "      <td>226.0</td>\n",
       "      <td>7.000</td>\n",
       "      <td>128.40</td>\n",
       "    </tr>\n",
       "    <tr>\n",
       "      <th>1</th>\n",
       "      <td>15.63</td>\n",
       "      <td>220.0</td>\n",
       "      <td>3.375</td>\n",
       "      <td>52.62</td>\n",
       "    </tr>\n",
       "    <tr>\n",
       "      <th>2</th>\n",
       "      <td>14.62</td>\n",
       "      <td>217.4</td>\n",
       "      <td>6.375</td>\n",
       "      <td>113.90</td>\n",
       "    </tr>\n",
       "    <tr>\n",
       "      <th>3</th>\n",
       "      <td>15.00</td>\n",
       "      <td>220.0</td>\n",
       "      <td>6.000</td>\n",
       "      <td>98.01</td>\n",
       "    </tr>\n",
       "    <tr>\n",
       "      <th>4</th>\n",
       "      <td>14.50</td>\n",
       "      <td>226.5</td>\n",
       "      <td>7.625</td>\n",
       "      <td>139.90</td>\n",
       "    </tr>\n",
       "  </tbody>\n",
       "</table>\n",
       "</div>"
      ],
      "text/plain": [
       "     ers    brs   ebrs     hfe\n",
       "0  14.62  226.0  7.000  128.40\n",
       "1  15.63  220.0  3.375   52.62\n",
       "2  14.62  217.4  6.375  113.90\n",
       "3  15.00  220.0  6.000   98.01\n",
       "4  14.50  226.5  7.625  139.90"
      ]
     },
     "execution_count": 2,
     "metadata": {},
     "output_type": "execute_result"
    }
   ],
   "source": [
    "semic = pd.read_csv('Data/semic.dat', sep='\\s+')\n",
    "semic.columns=['ers', 'brs', 'ebrs', 'hfe']\n",
    "semic.head()"
   ]
  },
  {
   "cell_type": "markdown",
   "metadata": {},
   "source": [
    "#### a)"
   ]
  },
  {
   "cell_type": "code",
   "execution_count": 3,
   "metadata": {},
   "outputs": [
    {
     "data": {
      "application/vnd.vegalite.v3+json": {
       "$schema": "https://vega.github.io/schema/vega-lite/v3.2.1.json",
       "config": {
        "mark": {
         "tooltip": null
        },
        "view": {
         "height": 300,
         "width": 400
        }
       },
       "data": {
        "name": "data-9a8a695da1e30e37eb6eb85cbc73c2cc"
       },
       "datasets": {
        "data-9a8a695da1e30e37eb6eb85cbc73c2cc": [
         {
          "brs": 226,
          "ebrs": 7,
          "ers": 14.62,
          "hfe": 128.4
         },
         {
          "brs": 220,
          "ebrs": 3.375,
          "ers": 15.63,
          "hfe": 52.62
         },
         {
          "brs": 217.4,
          "ebrs": 6.375,
          "ers": 14.62,
          "hfe": 113.9
         },
         {
          "brs": 220,
          "ebrs": 6,
          "ers": 15,
          "hfe": 98.01
         },
         {
          "brs": 226.5,
          "ebrs": 7.625,
          "ers": 14.5,
          "hfe": 139.9
         },
         {
          "brs": 224.1,
          "ebrs": 6,
          "ers": 15.25,
          "hfe": 102.6
         },
         {
          "brs": 220.5,
          "ebrs": 3.375,
          "ers": 16.12,
          "hfe": 48.14
         },
         {
          "brs": 223.5,
          "ebrs": 6.125,
          "ers": 15.13,
          "hfe": 109.6
         },
         {
          "brs": 217.6,
          "ebrs": 5,
          "ers": 15.5,
          "hfe": 82.68
         },
         {
          "brs": 228.5,
          "ebrs": 6.625,
          "ers": 15.13,
          "hfe": 112.6
         },
         {
          "brs": 230.2,
          "ebrs": 5.75,
          "ers": 15.5,
          "hfe": 97.52
         },
         {
          "brs": 226.5,
          "ebrs": 3.75,
          "ers": 16.12,
          "hfe": 59.06
         },
         {
          "brs": 226.6,
          "ebrs": 6.125,
          "ers": 15.13,
          "hfe": 111.8
         },
         {
          "brs": 225.6,
          "ebrs": 5.375,
          "ers": 15.63,
          "hfe": 89.09
         },
         {
          "brs": 234,
          "ebrs": 8.875,
          "ers": 15.38,
          "hfe": 171.9
         },
         {
          "brs": 230,
          "ebrs": 4,
          "ers": 15.5,
          "hfe": 66.8
         },
         {
          "brs": 224.3,
          "ebrs": 8,
          "ers": 14.25,
          "hfe": 157.1
         },
         {
          "brs": 240.5,
          "ebrs": 5.87,
          "ers": 14.5,
          "hfe": 108.4
         },
         {
          "brs": 223.7,
          "ebrs": 7.375,
          "ers": 14.62,
          "hfe": 133.4
         },
         {
          "brs": 235,
          "ebrs": 9.875,
          "ers": 15.22,
          "hfe": 183.9
         },
         {
          "brs": 222,
          "ebrs": 4.555,
          "ers": 14.98,
          "hfe": 88.8
         },
         {
          "brs": 229.3,
          "ebrs": 8.545,
          "ers": 14.88,
          "hfe": 151.1
         },
         {
          "brs": 249.5,
          "ebrs": 9.87,
          "ers": 14.5,
          "hfe": 189.4
         },
         {
          "brs": 243.7,
          "ebrs": 8.375,
          "ers": 15.62,
          "hfe": 155.4
         }
        ]
       },
       "encoding": {
        "x": {
         "field": "ers",
         "scale": {
          "zero": false
         },
         "title": "E.RS",
         "type": "quantitative"
        },
        "y": {
         "field": "hfe",
         "title": "hFE",
         "type": "quantitative"
        }
       },
       "mark": "point",
       "title": "hFE vs. E.RS"
      },
      "image/png": "[encoded data removed]",
      "text/plain": [
       "<VegaLite 3 object>\n",
       "\n",
       "If you see this message, it means the renderer has not been properly enabled\n",
       "for the frontend that you are using. For more information, see\n",
       "https://altair-viz.github.io/user_guide/troubleshooting.html\n"
      ]
     },
     "execution_count": 3,
     "metadata": {},
     "output_type": "execute_result"
    }
   ],
   "source": [
    "alt.Chart(semic, title='hFE vs. E.RS')\\\n",
    "        .mark_point()\\\n",
    "        .encode(\n",
    "            x=alt.X('ers', title='E.RS', scale=alt.Scale(zero=False)), \n",
    "            y=alt.Y('hfe', title='hFE'))"
   ]
  },
  {
   "cell_type": "markdown",
   "metadata": {},
   "source": [
    "E.RS seems to have a mild negative correlation to hFE."
   ]
  },
  {
   "cell_type": "code",
   "execution_count": 4,
   "metadata": {},
   "outputs": [
    {
     "data": {
      "application/vnd.vegalite.v3+json": {
       "$schema": "https://vega.github.io/schema/vega-lite/v3.2.1.json",
       "config": {
        "mark": {
         "tooltip": null
        },
        "view": {
         "height": 300,
         "width": 400
        }
       },
       "data": {
        "name": "data-9a8a695da1e30e37eb6eb85cbc73c2cc"
       },
       "datasets": {
        "data-9a8a695da1e30e37eb6eb85cbc73c2cc": [
         {
          "brs": 226,
          "ebrs": 7,
          "ers": 14.62,
          "hfe": 128.4
         },
         {
          "brs": 220,
          "ebrs": 3.375,
          "ers": 15.63,
          "hfe": 52.62
         },
         {
          "brs": 217.4,
          "ebrs": 6.375,
          "ers": 14.62,
          "hfe": 113.9
         },
         {
          "brs": 220,
          "ebrs": 6,
          "ers": 15,
          "hfe": 98.01
         },
         {
          "brs": 226.5,
          "ebrs": 7.625,
          "ers": 14.5,
          "hfe": 139.9
         },
         {
          "brs": 224.1,
          "ebrs": 6,
          "ers": 15.25,
          "hfe": 102.6
         },
         {
          "brs": 220.5,
          "ebrs": 3.375,
          "ers": 16.12,
          "hfe": 48.14
         },
         {
          "brs": 223.5,
          "ebrs": 6.125,
          "ers": 15.13,
          "hfe": 109.6
         },
         {
          "brs": 217.6,
          "ebrs": 5,
          "ers": 15.5,
          "hfe": 82.68
         },
         {
          "brs": 228.5,
          "ebrs": 6.625,
          "ers": 15.13,
          "hfe": 112.6
         },
         {
          "brs": 230.2,
          "ebrs": 5.75,
          "ers": 15.5,
          "hfe": 97.52
         },
         {
          "brs": 226.5,
          "ebrs": 3.75,
          "ers": 16.12,
          "hfe": 59.06
         },
         {
          "brs": 226.6,
          "ebrs": 6.125,
          "ers": 15.13,
          "hfe": 111.8
         },
         {
          "brs": 225.6,
          "ebrs": 5.375,
          "ers": 15.63,
          "hfe": 89.09
         },
         {
          "brs": 234,
          "ebrs": 8.875,
          "ers": 15.38,
          "hfe": 171.9
         },
         {
          "brs": 230,
          "ebrs": 4,
          "ers": 15.5,
          "hfe": 66.8
         },
         {
          "brs": 224.3,
          "ebrs": 8,
          "ers": 14.25,
          "hfe": 157.1
         },
         {
          "brs": 240.5,
          "ebrs": 5.87,
          "ers": 14.5,
          "hfe": 108.4
         },
         {
          "brs": 223.7,
          "ebrs": 7.375,
          "ers": 14.62,
          "hfe": 133.4
         },
         {
          "brs": 235,
          "ebrs": 9.875,
          "ers": 15.22,
          "hfe": 183.9
         },
         {
          "brs": 222,
          "ebrs": 4.555,
          "ers": 14.98,
          "hfe": 88.8
         },
         {
          "brs": 229.3,
          "ebrs": 8.545,
          "ers": 14.88,
          "hfe": 151.1
         },
         {
          "brs": 249.5,
          "ebrs": 9.87,
          "ers": 14.5,
          "hfe": 189.4
         },
         {
          "brs": 243.7,
          "ebrs": 8.375,
          "ers": 15.62,
          "hfe": 155.4
         }
        ]
       },
       "encoding": {
        "x": {
         "field": "brs",
         "scale": {
          "zero": false
         },
         "title": "B.RS",
         "type": "quantitative"
        },
        "y": {
         "field": "hfe",
         "title": "hFE",
         "type": "quantitative"
        }
       },
       "mark": "point",
       "title": "hFE vs. B.RS"
      },
      "image/png": "[encoded data removed]",
      "text/plain": [
       "<VegaLite 3 object>\n",
       "\n",
       "If you see this message, it means the renderer has not been properly enabled\n",
       "for the frontend that you are using. For more information, see\n",
       "https://altair-viz.github.io/user_guide/troubleshooting.html\n"
      ]
     },
     "execution_count": 4,
     "metadata": {},
     "output_type": "execute_result"
    }
   ],
   "source": [
    "alt.Chart(semic, title='hFE vs. B.RS')\\\n",
    "        .mark_point()\\\n",
    "        .encode(\n",
    "            x=alt.X('brs', title='B.RS', scale=alt.Scale(zero=False)), \n",
    "            y=alt.Y('hfe', title='hFE'))"
   ]
  },
  {
   "cell_type": "markdown",
   "metadata": {},
   "source": [
    "B.RS might have a mild positive correlation to hFE, but the amount of clustering towards the lower values indicates there may not be much correlation at all."
   ]
  },
  {
   "cell_type": "code",
   "execution_count": 5,
   "metadata": {},
   "outputs": [
    {
     "data": {
      "application/vnd.vegalite.v3+json": {
       "$schema": "https://vega.github.io/schema/vega-lite/v3.2.1.json",
       "config": {
        "mark": {
         "tooltip": null
        },
        "view": {
         "height": 300,
         "width": 400
        }
       },
       "data": {
        "name": "data-9a8a695da1e30e37eb6eb85cbc73c2cc"
       },
       "datasets": {
        "data-9a8a695da1e30e37eb6eb85cbc73c2cc": [
         {
          "brs": 226,
          "ebrs": 7,
          "ers": 14.62,
          "hfe": 128.4
         },
         {
          "brs": 220,
          "ebrs": 3.375,
          "ers": 15.63,
          "hfe": 52.62
         },
         {
          "brs": 217.4,
          "ebrs": 6.375,
          "ers": 14.62,
          "hfe": 113.9
         },
         {
          "brs": 220,
          "ebrs": 6,
          "ers": 15,
          "hfe": 98.01
         },
         {
          "brs": 226.5,
          "ebrs": 7.625,
          "ers": 14.5,
          "hfe": 139.9
         },
         {
          "brs": 224.1,
          "ebrs": 6,
          "ers": 15.25,
          "hfe": 102.6
         },
         {
          "brs": 220.5,
          "ebrs": 3.375,
          "ers": 16.12,
          "hfe": 48.14
         },
         {
          "brs": 223.5,
          "ebrs": 6.125,
          "ers": 15.13,
          "hfe": 109.6
         },
         {
          "brs": 217.6,
          "ebrs": 5,
          "ers": 15.5,
          "hfe": 82.68
         },
         {
          "brs": 228.5,
          "ebrs": 6.625,
          "ers": 15.13,
          "hfe": 112.6
         },
         {
          "brs": 230.2,
          "ebrs": 5.75,
          "ers": 15.5,
          "hfe": 97.52
         },
         {
          "brs": 226.5,
          "ebrs": 3.75,
          "ers": 16.12,
          "hfe": 59.06
         },
         {
          "brs": 226.6,
          "ebrs": 6.125,
          "ers": 15.13,
          "hfe": 111.8
         },
         {
          "brs": 225.6,
          "ebrs": 5.375,
          "ers": 15.63,
          "hfe": 89.09
         },
         {
          "brs": 234,
          "ebrs": 8.875,
          "ers": 15.38,
          "hfe": 171.9
         },
         {
          "brs": 230,
          "ebrs": 4,
          "ers": 15.5,
          "hfe": 66.8
         },
         {
          "brs": 224.3,
          "ebrs": 8,
          "ers": 14.25,
          "hfe": 157.1
         },
         {
          "brs": 240.5,
          "ebrs": 5.87,
          "ers": 14.5,
          "hfe": 108.4
         },
         {
          "brs": 223.7,
          "ebrs": 7.375,
          "ers": 14.62,
          "hfe": 133.4
         },
         {
          "brs": 235,
          "ebrs": 9.875,
          "ers": 15.22,
          "hfe": 183.9
         },
         {
          "brs": 222,
          "ebrs": 4.555,
          "ers": 14.98,
          "hfe": 88.8
         },
         {
          "brs": 229.3,
          "ebrs": 8.545,
          "ers": 14.88,
          "hfe": 151.1
         },
         {
          "brs": 249.5,
          "ebrs": 9.87,
          "ers": 14.5,
          "hfe": 189.4
         },
         {
          "brs": 243.7,
          "ebrs": 8.375,
          "ers": 15.62,
          "hfe": 155.4
         }
        ]
       },
       "encoding": {
        "x": {
         "field": "ebrs",
         "scale": {
          "zero": false
         },
         "title": "EB.RS",
         "type": "quantitative"
        },
        "y": {
         "field": "hfe",
         "title": "hFE",
         "type": "quantitative"
        }
       },
       "mark": "point",
       "title": "hFE vs. EB.RS"
      },
      "image/png": "[encoded data removed]",
      "text/plain": [
       "<VegaLite 3 object>\n",
       "\n",
       "If you see this message, it means the renderer has not been properly enabled\n",
       "for the frontend that you are using. For more information, see\n",
       "https://altair-viz.github.io/user_guide/troubleshooting.html\n"
      ]
     },
     "execution_count": 5,
     "metadata": {},
     "output_type": "execute_result"
    }
   ],
   "source": [
    "alt.Chart(semic, title='hFE vs. EB.RS')\\\n",
    "        .mark_point()\\\n",
    "        .encode(\n",
    "            x=alt.X('ebrs', title='EB.RS', scale=alt.Scale(zero=False)), \n",
    "            y=alt.Y('hfe', title='hFE'))"
   ]
  },
  {
   "cell_type": "markdown",
   "metadata": {},
   "source": [
    "EB.RS has an apparently high correlation to hFE, as demonstrated by the clear (approximate) line generated by the datapoints."
   ]
  },
  {
   "cell_type": "markdown",
   "metadata": {},
   "source": [
    "#### b)"
   ]
  },
  {
   "cell_type": "code",
   "execution_count": 6,
   "metadata": {},
   "outputs": [
    {
     "name": "stdout",
     "output_type": "stream",
     "text": [
      "                            OLS Regression Results                            \n",
      "==============================================================================\n",
      "Dep. Variable:                    hfe   R-squared:                       0.988\n",
      "Model:                            OLS   Adj. R-squared:                  0.986\n",
      "Method:                 Least Squares   F-statistic:                     530.2\n",
      "Date:                Tue, 03 Sep 2019   Prob (F-statistic):           3.21e-19\n",
      "Time:                        20:33:30   Log-Likelihood:                -69.287\n",
      "No. Observations:                  24   AIC:                             146.6\n",
      "Df Residuals:                      20   BIC:                             151.3\n",
      "Df Model:                           3                                         \n",
      "Covariance Type:            nonrobust                                         \n",
      "==============================================================================\n",
      "                 coef    std err          t      P>|t|      [0.025      0.975]\n",
      "------------------------------------------------------------------------------\n",
      "Intercept     16.0097     44.187      0.362      0.721     -76.163     108.182\n",
      "ebrs          19.4235      0.802     24.213      0.000      17.750      21.097\n",
      "brs            0.2349      0.159      1.476      0.155      -0.097       0.567\n",
      "ers           -5.2407      2.422     -2.164      0.043     -10.292      -0.189\n",
      "==============================================================================\n",
      "Omnibus:                        4.041   Durbin-Watson:                   2.256\n",
      "Prob(Omnibus):                  0.133   Jarque-Bera (JB):                2.320\n",
      "Skew:                           0.693   Prob(JB):                        0.314\n",
      "Kurtosis:                       3.630   Cond. No.                     1.04e+04\n",
      "==============================================================================\n",
      "\n",
      "Warnings:\n",
      "[1] Standard Errors assume that the covariance matrix of the errors is correctly specified.\n",
      "[2] The condition number is large, 1.04e+04. This might indicate that there are\n",
      "strong multicollinearity or other numerical problems.\n",
      "Coefficients: \n",
      "Intercept    16.009655\n",
      "ebrs         19.423532\n",
      "brs           0.234928\n",
      "ers          -5.240723\n",
      "dtype: float64\n"
     ]
    }
   ],
   "source": [
    "semicFit = smf.ols('hfe ~ ebrs + brs + ers', semic).fit()\n",
    "print(semicFit.summary())\n",
    "print(f'Coefficients: \\n{semicFit.params}')"
   ]
  },
  {
   "cell_type": "markdown",
   "metadata": {},
   "source": [
    "$\\hat{hFE}  = 16.0097 + 19.4235x_1  + 0.2349x_2  - 5.2407x_3$"
   ]
  },
  {
   "cell_type": "markdown",
   "metadata": {},
   "source": [
    "#### c)"
   ]
  },
  {
   "cell_type": "code",
   "execution_count": 7,
   "metadata": {},
   "outputs": [
    {
     "name": "stdout",
     "output_type": "stream",
     "text": [
      "variance: 22.609981340360555\n"
     ]
    }
   ],
   "source": [
    "print(f'variance: {semicFit.scale}')"
   ]
  },
  {
   "cell_type": "markdown",
   "metadata": {},
   "source": [
    "#### d)"
   ]
  },
  {
   "cell_type": "code",
   "execution_count": 8,
   "metadata": {},
   "outputs": [
    {
     "name": "stdout",
     "output_type": "stream",
     "text": [
      "            df        sum_sq       mean_sq            F        PR(>F)\n",
      "ebrs       1.0  35840.470457  35840.470457  1585.161435  1.598031e-20\n",
      "brs        1.0     19.231423     19.231423     0.850572  3.673831e-01\n",
      "ers        1.0    105.899826    105.899826     4.683764  4.272500e-02\n",
      "Residual  20.0    452.199627     22.609981          NaN           NaN\n"
     ]
    }
   ],
   "source": [
    "print(sm.stats.anova_lm(semicFit))"
   ]
  },
  {
   "cell_type": "markdown",
   "metadata": {},
   "source": [
    "EB.RS is highly correlated and significant to the output of hFE with E.RS also being statistically significant at a 0.05 level, although just barely.\n",
    "\n",
    "B.RS is not significant at the 0.05 level (if the data is fit again without B.RS, the adjusted R-Squared goes up slightly).\n"
   ]
  },
  {
   "cell_type": "markdown",
   "metadata": {},
   "source": [
    "#### e)"
   ]
  },
  {
   "cell_type": "code",
   "execution_count": 9,
   "metadata": {},
   "outputs": [
    {
     "data": {
      "text/plain": [
       "108.19315918035907"
      ]
     },
     "execution_count": 9,
     "metadata": {},
     "output_type": "execute_result"
    }
   ],
   "source": [
    "p = semicFit.get_prediction({'ebrs':6.125, 'brs':223.5, 'ers':15.13})\n",
    "p.predicted_mean[0]"
   ]
  },
  {
   "cell_type": "markdown",
   "metadata": {},
   "source": [
    "$\\hat{hFE} = 108.1932$"
   ]
  },
  {
   "cell_type": "markdown",
   "metadata": {},
   "source": [
    "#### f)"
   ]
  },
  {
   "cell_type": "code",
   "execution_count": 10,
   "metadata": {},
   "outputs": [
    {
     "name": "stdout",
     "output_type": "stream",
     "text": [
      "99% prediction interval: 94.29423184698531 - 122.09208651373284\n"
     ]
    }
   ],
   "source": [
    "pPredInt = p.conf_int(obs=True, alpha=.01)\n",
    "print(f'99% prediction interval: {pPredInt[0,0]} - {pPredInt[0,1]}')"
   ]
  },
  {
   "cell_type": "markdown",
   "metadata": {},
   "source": [
    "#### g)"
   ]
  },
  {
   "cell_type": "code",
   "execution_count": 11,
   "metadata": {},
   "outputs": [
    {
     "name": "stdout",
     "output_type": "stream",
     "text": [
      "99% confidence interval: 105.0102799400672 - 111.37603842065094\n"
     ]
    }
   ],
   "source": [
    "pConfInt = p.conf_int( alpha=0.01)\n",
    "print(f'99% confidence interval: {pConfInt[0,0]} - {pConfInt[0,1]}')"
   ]
  },
  {
   "cell_type": "markdown",
   "metadata": {},
   "source": [
    "The confidence interval is the range where a determined percentage of the values would fall for a random variable (in this case 99%). In other words, 99% of the time, E[y|x] will be within the range provided by this confidence interval. In the case of the prediction interval, it also factors in the errors from the prediction and thus is a wider range as it estimates y, not E[y|x]."
   ]
  },
  {
   "cell_type": "markdown",
   "metadata": {},
   "source": [
    "#### h)"
   ]
  },
  {
   "cell_type": "code",
   "execution_count": 12,
   "metadata": {},
   "outputs": [
    {
     "name": "stdout",
     "output_type": "stream",
     "text": [
      "[[1.         0.99868743 0.95480478]\n",
      " [0.99868743 1.         0.96558185]\n",
      " [0.95480478 0.96558185 1.        ]]\n"
     ]
    }
   ],
   "source": [
    "semicCntr = semic/semic.mean()\n",
    "X = np.array(semicCntr[['ers', 'brs', 'ebrs']])\n",
    "S = np.matmul(X.transpose(), X)\n",
    "r = np.zeros([3,3])\n",
    "for i in range(3):\n",
    "    for j in range(3):\n",
    "        r[i,j] = S[i,j]/(np.sqrt(S[i,i]*S[j,j]))\n",
    "print(r)"
   ]
  },
  {
   "cell_type": "markdown",
   "metadata": {},
   "source": [
    "There would seem to be a strong, positive correlation between all three regressors, particularly between B.RS and E.RS. It would seem that any change to any one of them will have a significant impact on the rest."
   ]
  },
  {
   "cell_type": "markdown",
   "metadata": {},
   "source": [
    "#### i)"
   ]
  },
  {
   "cell_type": "code",
   "execution_count": 13,
   "metadata": {},
   "outputs": [],
   "source": [
    "#code for partial_corr from https://gist.github.com/fabianp/9396204419c7b638d38f\n",
    "\n",
    "from scipy import stats, linalg\n",
    "\n",
    "def partial_corr(C):\n",
    "    C = np.asarray(C)\n",
    "    p = C.shape[1]\n",
    "    P_corr = np.zeros((p, p), dtype=np.float)\n",
    "    for i in range(p):\n",
    "        P_corr[i, i] = 1\n",
    "        for j in range(i+1, p):\n",
    "            idx = np.ones(p, dtype=np.bool)\n",
    "            idx[i] = False\n",
    "            idx[j] = False\n",
    "            beta_i = linalg.lstsq(C[:, idx], C[:, j])[0]\n",
    "            beta_j = linalg.lstsq(C[:, idx], C[:, i])[0]\n",
    "\n",
    "            res_j = C[:, j] - C[:, idx].dot( beta_i)\n",
    "            res_i = C[:, i] - C[:, idx].dot(beta_j)\n",
    "\n",
    "            corr = stats.pearsonr(res_i, res_j)[0]\n",
    "            P_corr[i, j] = corr\n",
    "            P_corr[j, i] = corr\n",
    "\n",
    "    return P_corr"
   ]
  },
  {
   "cell_type": "code",
   "execution_count": 14,
   "metadata": {},
   "outputs": [
    {
     "data": {
      "text/plain": [
       "array([[ 1.        ,  0.98713369,  0.38150306, -0.50162891],\n",
       "       [ 0.98713369,  1.        , -0.26121051,  0.39902939],\n",
       "       [ 0.38150306, -0.26121051,  1.        ,  0.98346083],\n",
       "       [-0.50162891,  0.39902939,  0.98346083,  1.        ]])"
      ]
     },
     "execution_count": 14,
     "metadata": {},
     "output_type": "execute_result"
    }
   ],
   "source": [
    "partial_corr(semic)"
   ]
  },
  {
   "cell_type": "markdown",
   "metadata": {},
   "source": [
    "We are interested in the last row (or column) of the above array as it is the one that represents hFE. overall, there is a very strong correlation with EB.RS which matches the output of the plot being almost a straight line. This variable has a very strong effect on the hFE.\n",
    "\n",
    "There isn't much of a correlation between hFE and B.Rs but a mild negative correlation between E.RS and hFE. Both of these also align with the output from the plots. E.RS will tend to reduce the amount of hFE mildly while B.RS will have a very small positive effect."
   ]
  },
  {
   "cell_type": "markdown",
   "metadata": {},
   "source": [
    "#### j)"
   ]
  },
  {
   "cell_type": "markdown",
   "metadata": {},
   "source": [
    "The regressors most likely to be important in predicting a response will be EB.RS and E.RS. the effect of B.RS is likely to be minimal."
   ]
  },
  {
   "cell_type": "markdown",
   "metadata": {},
   "source": [
    "#### k)"
   ]
  },
  {
   "cell_type": "code",
   "execution_count": 15,
   "metadata": {},
   "outputs": [
    {
     "name": "stdout",
     "output_type": "stream",
     "text": [
      "Intercept\n",
      "                             Test for Constraints                             \n",
      "==============================================================================\n",
      "                 coef    std err          t      P>|t|      [0.025      0.975]\n",
      "------------------------------------------------------------------------------\n",
      "c0            16.0097     44.187      0.362      0.721     -76.163     108.182\n",
      "==============================================================================\n",
      "Intercept not  significant at alpha=0.05 level\n",
      "------------------------------------------------------------------------------\n",
      "\n",
      "\n",
      "EB.RS\n",
      "                             Test for Constraints                             \n",
      "==============================================================================\n",
      "                 coef    std err          t      P>|t|      [0.025      0.975]\n",
      "------------------------------------------------------------------------------\n",
      "c0            19.4235      0.802     24.213      0.000      17.750      21.097\n",
      "==============================================================================\n",
      "EB.RS  significant at alpha=0.05 level\n",
      "------------------------------------------------------------------------------\n",
      "\n",
      "\n",
      "B.RS\n",
      "                             Test for Constraints                             \n",
      "==============================================================================\n",
      "                 coef    std err          t      P>|t|      [0.025      0.975]\n",
      "------------------------------------------------------------------------------\n",
      "c0             0.2349      0.159      1.476      0.155      -0.097       0.567\n",
      "==============================================================================\n",
      "B.RS not  significant at alpha=0.05 level\n",
      "------------------------------------------------------------------------------\n",
      "\n",
      "\n",
      "E.RS\n",
      "                             Test for Constraints                             \n",
      "==============================================================================\n",
      "                 coef    std err          t      P>|t|      [0.025      0.975]\n",
      "------------------------------------------------------------------------------\n",
      "c0            -5.2407      2.422     -2.164      0.043     -10.292      -0.189\n",
      "==============================================================================\n",
      "E.RS  significant at alpha=0.05 level\n",
      "------------------------------------------------------------------------------\n",
      "\n",
      "\n"
     ]
    }
   ],
   "source": [
    "coef = ['Intercept', 'EB.RS', 'B.RS', 'E.RS']\n",
    "for i in range(4):\n",
    "    r = [0, 0, 0, 0]\n",
    "    r[i] = 1\n",
    "    t = semicFit.t_test(r)\n",
    "    print(f'{coef[i]}')\n",
    "    print(f'{t}')\n",
    "    print(f'{coef[i]} {\"not \" \\\n",
    "                        if t.pvalue >= 0.05 \\\n",
    "                        else \"\"} significant at alpha=0.05 level')\n",
    "    print('--------------------------'*3 + '\\n'*2)"
   ]
  },
  {
   "cell_type": "markdown",
   "metadata": {},
   "source": [
    "#### l)"
   ]
  },
  {
   "cell_type": "markdown",
   "metadata": {},
   "source": [
    "Based on the data above, the best fitted model may likely be:\n",
    "\n",
    "$\\hat{hFE} = \\beta_0 + \\beta_1EB.RS$\n",
    "\n",
    "While the intercept does not test as significant, it is still necessary to include. The other two variables, E.RS, B.RS, do not have much of a correlation to the dependent variable and also fail in the ANOVA table."
   ]
  },
  {
   "cell_type": "markdown",
   "metadata": {},
   "source": [
    "## Question 2"
   ]
  },
  {
   "cell_type": "code",
   "execution_count": 16,
   "metadata": {},
   "outputs": [
    {
     "data": {
      "text/html": [
       "<div>\n",
       "<style scoped>\n",
       "    .dataframe tbody tr th:only-of-type {\n",
       "        vertical-align: middle;\n",
       "    }\n",
       "\n",
       "    .dataframe tbody tr th {\n",
       "        vertical-align: top;\n",
       "    }\n",
       "\n",
       "    .dataframe thead th {\n",
       "        text-align: right;\n",
       "    }\n",
       "</style>\n",
       "<table border=\"1\" class=\"dataframe\">\n",
       "  <thead>\n",
       "    <tr style=\"text-align: right;\">\n",
       "      <th></th>\n",
       "      <th>Country</th>\n",
       "      <th>AO</th>\n",
       "      <th>POP</th>\n",
       "      <th>DEN</th>\n",
       "      <th>GDP</th>\n",
       "      <th>PR</th>\n",
       "      <th>CON</th>\n",
       "      <th>TR</th>\n",
       "    </tr>\n",
       "  </thead>\n",
       "  <tbody>\n",
       "    <tr>\n",
       "      <th>0</th>\n",
       "      <td>Austria</td>\n",
       "      <td>0.27</td>\n",
       "      <td>7.5</td>\n",
       "      <td>89</td>\n",
       "      <td>7.7</td>\n",
       "      <td>49</td>\n",
       "      <td>1.11</td>\n",
       "      <td>2.6</td>\n",
       "    </tr>\n",
       "    <tr>\n",
       "      <th>1</th>\n",
       "      <td>Belgium</td>\n",
       "      <td>0.30</td>\n",
       "      <td>9.8</td>\n",
       "      <td>323</td>\n",
       "      <td>9.8</td>\n",
       "      <td>59</td>\n",
       "      <td>1.04</td>\n",
       "      <td>1.6</td>\n",
       "    </tr>\n",
       "    <tr>\n",
       "      <th>2</th>\n",
       "      <td>Canada</td>\n",
       "      <td>0.42</td>\n",
       "      <td>23.5</td>\n",
       "      <td>2</td>\n",
       "      <td>8.7</td>\n",
       "      <td>17</td>\n",
       "      <td>2.82</td>\n",
       "      <td>0.1</td>\n",
       "    </tr>\n",
       "    <tr>\n",
       "      <th>3</th>\n",
       "      <td>Denmark</td>\n",
       "      <td>0.28</td>\n",
       "      <td>5.1</td>\n",
       "      <td>119</td>\n",
       "      <td>11.0</td>\n",
       "      <td>56</td>\n",
       "      <td>1.21</td>\n",
       "      <td>1.9</td>\n",
       "    </tr>\n",
       "    <tr>\n",
       "      <th>4</th>\n",
       "      <td>Finland</td>\n",
       "      <td>0.24</td>\n",
       "      <td>4.8</td>\n",
       "      <td>16</td>\n",
       "      <td>7.1</td>\n",
       "      <td>49</td>\n",
       "      <td>1.22</td>\n",
       "      <td>2.2</td>\n",
       "    </tr>\n",
       "  </tbody>\n",
       "</table>\n",
       "</div>"
      ],
      "text/plain": [
       "   Country    AO   POP  DEN   GDP  PR   CON   TR\n",
       "0  Austria  0.27   7.5   89   7.7  49  1.11  2.6\n",
       "1  Belgium  0.30   9.8  323   9.8  59  1.04  1.6\n",
       "2   Canada  0.42  23.5    2   8.7  17  2.82  0.1\n",
       "3  Denmark  0.28   5.1  119  11.0  56  1.21  1.9\n",
       "4  Finland  0.24   4.8   16   7.1  49  1.22  2.2"
      ]
     },
     "execution_count": 16,
     "metadata": {},
     "output_type": "execute_result"
    }
   ],
   "source": [
    "cars = pd.read_csv('Data/car.dat', sep='\\s+')\n",
    "cars.head()"
   ]
  },
  {
   "cell_type": "markdown",
   "metadata": {},
   "source": [
    "#### a)"
   ]
  },
  {
   "cell_type": "code",
   "execution_count": 17,
   "metadata": {},
   "outputs": [
    {
     "data": {
      "application/vnd.vegalite.v3+json": {
       "$schema": "https://vega.github.io/schema/vega-lite/v3.2.1.json",
       "config": {
        "mark": {
         "tooltip": null
        },
        "view": {
         "height": 300,
         "width": 400
        }
       },
       "data": {
        "name": "data-4f178b92166a94dc5d89dbe6ec99da46"
       },
       "datasets": {
        "data-4f178b92166a94dc5d89dbe6ec99da46": [
         {
          "AO": 0.27,
          "CON": 1.11,
          "Country": "Austria",
          "DEN": 89,
          "GDP": 7.7,
          "POP": 7.5,
          "PR": 49,
          "TR": 2.6
         },
         {
          "AO": 0.3,
          "CON": 1.04,
          "Country": "Belgium",
          "DEN": 323,
          "GDP": 9.8,
          "POP": 9.8,
          "PR": 59,
          "TR": 1.6
         },
         {
          "AO": 0.42,
          "CON": 2.82,
          "Country": "Canada",
          "DEN": 2,
          "GDP": 8.7,
          "POP": 23.5,
          "PR": 17,
          "TR": 0.1
         },
         {
          "AO": 0.28,
          "CON": 1.21,
          "Country": "Denmark",
          "DEN": 119,
          "GDP": 11,
          "POP": 5.1,
          "PR": 56,
          "TR": 1.9
         },
         {
          "AO": 0.24,
          "CON": 1.22,
          "Country": "Finland",
          "DEN": 16,
          "GDP": 7.1,
          "POP": 4.8,
          "PR": 49,
          "TR": 2.2
         },
         {
          "AO": 0.33,
          "CON": 1.03,
          "Country": "France",
          "DEN": 97,
          "GDP": 8.8,
          "POP": 53.3,
          "PR": 61,
          "TR": 1.5
         },
         {
          "AO": 0.35,
          "CON": 1.11,
          "Country": "Germany",
          "DEN": 247,
          "GDP": 10.4,
          "POP": 61.3,
          "PR": 49,
          "TR": 1.7
         },
         {
          "AO": 0.08,
          "CON": 1.72,
          "Country": "Greece",
          "DEN": 71,
          "GDP": 3.4,
          "POP": 9.4,
          "PR": 56,
          "TR": 0.7
         },
         {
          "AO": 0.34,
          "CON": 1.23,
          "Country": "Iceland",
          "DEN": 2,
          "GDP": 9.8,
          "POP": 0.2,
          "PR": 57,
          "TR": 2
         },
         {
          "AO": 0.2,
          "CON": 1.51,
          "Country": "Ireland",
          "DEN": 46,
          "GDP": 3.8,
          "POP": 3.2,
          "PR": 40,
          "TR": 0.3
         },
         {
          "AO": 0.3,
          "CON": 0.61,
          "Country": "Italy",
          "DEN": 188,
          "GDP": 4.6,
          "POP": 56.7,
          "PR": 61,
          "TR": 1.8
         },
         {
          "AO": 0.18,
          "CON": 1.23,
          "Country": "Japan",
          "DEN": 309,
          "GDP": 8.5,
          "POP": 114.9,
          "PR": 49,
          "TR": 3.5
         },
         {
          "AO": 0.43,
          "CON": 1.61,
          "Country": "Luxembourg",
          "DEN": 138,
          "GDP": 9.8,
          "POP": 0.4,
          "PR": 44,
          "TR": 0.8
         },
         {
          "AO": 0.3,
          "CON": 1.08,
          "Country": "Netherlands",
          "DEN": 412,
          "GDP": 9.4,
          "POP": 13.9,
          "PR": 56,
          "TR": 1.5
         },
         {
          "AO": 0.4,
          "CON": 1.32,
          "Country": "New.Zealand",
          "DEN": 12,
          "GDP": 5.9,
          "POP": 3.1,
          "PR": 34,
          "TR": 0.2
         },
         {
          "AO": 0.28,
          "CON": 1.06,
          "Country": "Norway",
          "DEN": 13,
          "GDP": 9.8,
          "POP": 4.1,
          "PR": 61,
          "TR": 1.7
         },
         {
          "AO": 0.1,
          "CON": 0.73,
          "Country": "Portugal",
          "DEN": 107,
          "GDP": 1.8,
          "POP": 9.8,
          "PR": 68,
          "TR": 0.9
         },
         {
          "AO": 0.18,
          "CON": 0.82,
          "Country": "Spain",
          "DEN": 73,
          "GDP": 4,
          "POP": 36.8,
          "PR": 44,
          "TR": 1.3
         },
         {
          "AO": 0.34,
          "CON": 1.31,
          "Country": "Sweden",
          "DEN": 18,
          "GDP": 10.6,
          "POP": 8.3,
          "PR": 42,
          "TR": 1.7
         },
         {
          "AO": 0.32,
          "CON": 1.33,
          "Country": "Switzerland",
          "DEN": 153,
          "GDP": 13.3,
          "POP": 6.3,
          "PR": 56,
          "TR": 2
         },
         {
          "AO": 0.013999999999999999,
          "CON": 3.32,
          "Country": "Turkey",
          "DEN": 55,
          "GDP": 1.2,
          "POP": 42.7,
          "PR": 36,
          "TR": 0.1
         },
         {
          "AO": 0.27,
          "CON": 1.21,
          "Country": "U.K.",
          "DEN": 229,
          "GDP": 5.5,
          "POP": 55.8,
          "PR": 35,
          "TR": 1.6
         },
         {
          "AO": 0.43,
          "CON": 2.71,
          "Country": "U.S.A.",
          "DEN": 23,
          "GDP": 9.7,
          "POP": 218.2,
          "PR": 17,
          "TR": 0.3
         },
         {
          "AO": 0.09,
          "CON": 1.13,
          "Country": "Yugoslavia",
          "DEN": 86,
          "GDP": 2.1,
          "POP": 22,
          "PR": 40,
          "TR": 2.1
         }
        ]
       },
       "encoding": {
        "x": {
         "field": "GDP",
         "type": "quantitative"
        },
        "y": {
         "field": "AO",
         "scale": {
          "zero": false
         },
         "type": "quantitative"
        }
       },
       "mark": "point",
       "title": "AO vs GDP"
      },
      "image/png": "[encoded data removed]",
      "text/plain": [
       "<VegaLite 3 object>\n",
       "\n",
       "If you see this message, it means the renderer has not been properly enabled\n",
       "for the frontend that you are using. For more information, see\n",
       "https://altair-viz.github.io/user_guide/troubleshooting.html\n"
      ]
     },
     "execution_count": 17,
     "metadata": {},
     "output_type": "execute_result"
    }
   ],
   "source": [
    "alt.Chart(cars, title='AO vs GDP')\\\n",
    "    .mark_point()\\\n",
    "    .encode(x='GDP', y=alt.Y('AO', scale=alt.Scale(zero=False)))"
   ]
  },
  {
   "cell_type": "code",
   "execution_count": 18,
   "metadata": {},
   "outputs": [
    {
     "data": {
      "application/vnd.vegalite.v3+json": {
       "$schema": "https://vega.github.io/schema/vega-lite/v3.2.1.json",
       "config": {
        "mark": {
         "tooltip": null
        },
        "view": {
         "height": 300,
         "width": 400
        }
       },
       "data": {
        "name": "data-4f178b92166a94dc5d89dbe6ec99da46"
       },
       "datasets": {
        "data-4f178b92166a94dc5d89dbe6ec99da46": [
         {
          "AO": 0.27,
          "CON": 1.11,
          "Country": "Austria",
          "DEN": 89,
          "GDP": 7.7,
          "POP": 7.5,
          "PR": 49,
          "TR": 2.6
         },
         {
          "AO": 0.3,
          "CON": 1.04,
          "Country": "Belgium",
          "DEN": 323,
          "GDP": 9.8,
          "POP": 9.8,
          "PR": 59,
          "TR": 1.6
         },
         {
          "AO": 0.42,
          "CON": 2.82,
          "Country": "Canada",
          "DEN": 2,
          "GDP": 8.7,
          "POP": 23.5,
          "PR": 17,
          "TR": 0.1
         },
         {
          "AO": 0.28,
          "CON": 1.21,
          "Country": "Denmark",
          "DEN": 119,
          "GDP": 11,
          "POP": 5.1,
          "PR": 56,
          "TR": 1.9
         },
         {
          "AO": 0.24,
          "CON": 1.22,
          "Country": "Finland",
          "DEN": 16,
          "GDP": 7.1,
          "POP": 4.8,
          "PR": 49,
          "TR": 2.2
         },
         {
          "AO": 0.33,
          "CON": 1.03,
          "Country": "France",
          "DEN": 97,
          "GDP": 8.8,
          "POP": 53.3,
          "PR": 61,
          "TR": 1.5
         },
         {
          "AO": 0.35,
          "CON": 1.11,
          "Country": "Germany",
          "DEN": 247,
          "GDP": 10.4,
          "POP": 61.3,
          "PR": 49,
          "TR": 1.7
         },
         {
          "AO": 0.08,
          "CON": 1.72,
          "Country": "Greece",
          "DEN": 71,
          "GDP": 3.4,
          "POP": 9.4,
          "PR": 56,
          "TR": 0.7
         },
         {
          "AO": 0.34,
          "CON": 1.23,
          "Country": "Iceland",
          "DEN": 2,
          "GDP": 9.8,
          "POP": 0.2,
          "PR": 57,
          "TR": 2
         },
         {
          "AO": 0.2,
          "CON": 1.51,
          "Country": "Ireland",
          "DEN": 46,
          "GDP": 3.8,
          "POP": 3.2,
          "PR": 40,
          "TR": 0.3
         },
         {
          "AO": 0.3,
          "CON": 0.61,
          "Country": "Italy",
          "DEN": 188,
          "GDP": 4.6,
          "POP": 56.7,
          "PR": 61,
          "TR": 1.8
         },
         {
          "AO": 0.18,
          "CON": 1.23,
          "Country": "Japan",
          "DEN": 309,
          "GDP": 8.5,
          "POP": 114.9,
          "PR": 49,
          "TR": 3.5
         },
         {
          "AO": 0.43,
          "CON": 1.61,
          "Country": "Luxembourg",
          "DEN": 138,
          "GDP": 9.8,
          "POP": 0.4,
          "PR": 44,
          "TR": 0.8
         },
         {
          "AO": 0.3,
          "CON": 1.08,
          "Country": "Netherlands",
          "DEN": 412,
          "GDP": 9.4,
          "POP": 13.9,
          "PR": 56,
          "TR": 1.5
         },
         {
          "AO": 0.4,
          "CON": 1.32,
          "Country": "New.Zealand",
          "DEN": 12,
          "GDP": 5.9,
          "POP": 3.1,
          "PR": 34,
          "TR": 0.2
         },
         {
          "AO": 0.28,
          "CON": 1.06,
          "Country": "Norway",
          "DEN": 13,
          "GDP": 9.8,
          "POP": 4.1,
          "PR": 61,
          "TR": 1.7
         },
         {
          "AO": 0.1,
          "CON": 0.73,
          "Country": "Portugal",
          "DEN": 107,
          "GDP": 1.8,
          "POP": 9.8,
          "PR": 68,
          "TR": 0.9
         },
         {
          "AO": 0.18,
          "CON": 0.82,
          "Country": "Spain",
          "DEN": 73,
          "GDP": 4,
          "POP": 36.8,
          "PR": 44,
          "TR": 1.3
         },
         {
          "AO": 0.34,
          "CON": 1.31,
          "Country": "Sweden",
          "DEN": 18,
          "GDP": 10.6,
          "POP": 8.3,
          "PR": 42,
          "TR": 1.7
         },
         {
          "AO": 0.32,
          "CON": 1.33,
          "Country": "Switzerland",
          "DEN": 153,
          "GDP": 13.3,
          "POP": 6.3,
          "PR": 56,
          "TR": 2
         },
         {
          "AO": 0.013999999999999999,
          "CON": 3.32,
          "Country": "Turkey",
          "DEN": 55,
          "GDP": 1.2,
          "POP": 42.7,
          "PR": 36,
          "TR": 0.1
         },
         {
          "AO": 0.27,
          "CON": 1.21,
          "Country": "U.K.",
          "DEN": 229,
          "GDP": 5.5,
          "POP": 55.8,
          "PR": 35,
          "TR": 1.6
         },
         {
          "AO": 0.43,
          "CON": 2.71,
          "Country": "U.S.A.",
          "DEN": 23,
          "GDP": 9.7,
          "POP": 218.2,
          "PR": 17,
          "TR": 0.3
         },
         {
          "AO": 0.09,
          "CON": 1.13,
          "Country": "Yugoslavia",
          "DEN": 86,
          "GDP": 2.1,
          "POP": 22,
          "PR": 40,
          "TR": 2.1
         }
        ]
       },
       "encoding": {
        "x": {
         "field": "CON",
         "type": "quantitative"
        },
        "y": {
         "field": "AO",
         "scale": {
          "zero": false
         },
         "type": "quantitative"
        }
       },
       "mark": "point",
       "title": "AO vs CON"
      },
      "image/png": "[encoded data removed]",
      "text/plain": [
       "<VegaLite 3 object>\n",
       "\n",
       "If you see this message, it means the renderer has not been properly enabled\n",
       "for the frontend that you are using. For more information, see\n",
       "https://altair-viz.github.io/user_guide/troubleshooting.html\n"
      ]
     },
     "execution_count": 18,
     "metadata": {},
     "output_type": "execute_result"
    }
   ],
   "source": [
    "alt.Chart(cars, title='AO vs CON')\\\n",
    "    .mark_point()\\\n",
    "    .encode(x='CON', y=alt.Y('AO', scale=alt.Scale(zero=False)))"
   ]
  },
  {
   "cell_type": "code",
   "execution_count": 19,
   "metadata": {},
   "outputs": [
    {
     "data": {
      "application/vnd.vegalite.v3+json": {
       "$schema": "https://vega.github.io/schema/vega-lite/v3.2.1.json",
       "config": {
        "mark": {
         "tooltip": null
        },
        "view": {
         "height": 300,
         "width": 400
        }
       },
       "data": {
        "name": "data-4f178b92166a94dc5d89dbe6ec99da46"
       },
       "datasets": {
        "data-4f178b92166a94dc5d89dbe6ec99da46": [
         {
          "AO": 0.27,
          "CON": 1.11,
          "Country": "Austria",
          "DEN": 89,
          "GDP": 7.7,
          "POP": 7.5,
          "PR": 49,
          "TR": 2.6
         },
         {
          "AO": 0.3,
          "CON": 1.04,
          "Country": "Belgium",
          "DEN": 323,
          "GDP": 9.8,
          "POP": 9.8,
          "PR": 59,
          "TR": 1.6
         },
         {
          "AO": 0.42,
          "CON": 2.82,
          "Country": "Canada",
          "DEN": 2,
          "GDP": 8.7,
          "POP": 23.5,
          "PR": 17,
          "TR": 0.1
         },
         {
          "AO": 0.28,
          "CON": 1.21,
          "Country": "Denmark",
          "DEN": 119,
          "GDP": 11,
          "POP": 5.1,
          "PR": 56,
          "TR": 1.9
         },
         {
          "AO": 0.24,
          "CON": 1.22,
          "Country": "Finland",
          "DEN": 16,
          "GDP": 7.1,
          "POP": 4.8,
          "PR": 49,
          "TR": 2.2
         },
         {
          "AO": 0.33,
          "CON": 1.03,
          "Country": "France",
          "DEN": 97,
          "GDP": 8.8,
          "POP": 53.3,
          "PR": 61,
          "TR": 1.5
         },
         {
          "AO": 0.35,
          "CON": 1.11,
          "Country": "Germany",
          "DEN": 247,
          "GDP": 10.4,
          "POP": 61.3,
          "PR": 49,
          "TR": 1.7
         },
         {
          "AO": 0.08,
          "CON": 1.72,
          "Country": "Greece",
          "DEN": 71,
          "GDP": 3.4,
          "POP": 9.4,
          "PR": 56,
          "TR": 0.7
         },
         {
          "AO": 0.34,
          "CON": 1.23,
          "Country": "Iceland",
          "DEN": 2,
          "GDP": 9.8,
          "POP": 0.2,
          "PR": 57,
          "TR": 2
         },
         {
          "AO": 0.2,
          "CON": 1.51,
          "Country": "Ireland",
          "DEN": 46,
          "GDP": 3.8,
          "POP": 3.2,
          "PR": 40,
          "TR": 0.3
         },
         {
          "AO": 0.3,
          "CON": 0.61,
          "Country": "Italy",
          "DEN": 188,
          "GDP": 4.6,
          "POP": 56.7,
          "PR": 61,
          "TR": 1.8
         },
         {
          "AO": 0.18,
          "CON": 1.23,
          "Country": "Japan",
          "DEN": 309,
          "GDP": 8.5,
          "POP": 114.9,
          "PR": 49,
          "TR": 3.5
         },
         {
          "AO": 0.43,
          "CON": 1.61,
          "Country": "Luxembourg",
          "DEN": 138,
          "GDP": 9.8,
          "POP": 0.4,
          "PR": 44,
          "TR": 0.8
         },
         {
          "AO": 0.3,
          "CON": 1.08,
          "Country": "Netherlands",
          "DEN": 412,
          "GDP": 9.4,
          "POP": 13.9,
          "PR": 56,
          "TR": 1.5
         },
         {
          "AO": 0.4,
          "CON": 1.32,
          "Country": "New.Zealand",
          "DEN": 12,
          "GDP": 5.9,
          "POP": 3.1,
          "PR": 34,
          "TR": 0.2
         },
         {
          "AO": 0.28,
          "CON": 1.06,
          "Country": "Norway",
          "DEN": 13,
          "GDP": 9.8,
          "POP": 4.1,
          "PR": 61,
          "TR": 1.7
         },
         {
          "AO": 0.1,
          "CON": 0.73,
          "Country": "Portugal",
          "DEN": 107,
          "GDP": 1.8,
          "POP": 9.8,
          "PR": 68,
          "TR": 0.9
         },
         {
          "AO": 0.18,
          "CON": 0.82,
          "Country": "Spain",
          "DEN": 73,
          "GDP": 4,
          "POP": 36.8,
          "PR": 44,
          "TR": 1.3
         },
         {
          "AO": 0.34,
          "CON": 1.31,
          "Country": "Sweden",
          "DEN": 18,
          "GDP": 10.6,
          "POP": 8.3,
          "PR": 42,
          "TR": 1.7
         },
         {
          "AO": 0.32,
          "CON": 1.33,
          "Country": "Switzerland",
          "DEN": 153,
          "GDP": 13.3,
          "POP": 6.3,
          "PR": 56,
          "TR": 2
         },
         {
          "AO": 0.013999999999999999,
          "CON": 3.32,
          "Country": "Turkey",
          "DEN": 55,
          "GDP": 1.2,
          "POP": 42.7,
          "PR": 36,
          "TR": 0.1
         },
         {
          "AO": 0.27,
          "CON": 1.21,
          "Country": "U.K.",
          "DEN": 229,
          "GDP": 5.5,
          "POP": 55.8,
          "PR": 35,
          "TR": 1.6
         },
         {
          "AO": 0.43,
          "CON": 2.71,
          "Country": "U.S.A.",
          "DEN": 23,
          "GDP": 9.7,
          "POP": 218.2,
          "PR": 17,
          "TR": 0.3
         },
         {
          "AO": 0.09,
          "CON": 1.13,
          "Country": "Yugoslavia",
          "DEN": 86,
          "GDP": 2.1,
          "POP": 22,
          "PR": 40,
          "TR": 2.1
         }
        ]
       },
       "encoding": {
        "x": {
         "field": "DEN",
         "type": "quantitative"
        },
        "y": {
         "field": "AO",
         "scale": {
          "zero": false
         },
         "type": "quantitative"
        }
       },
       "mark": "point",
       "title": "AO vs DEN"
      },
      "image/png": "[encoded data removed]",
      "text/plain": [
       "<VegaLite 3 object>\n",
       "\n",
       "If you see this message, it means the renderer has not been properly enabled\n",
       "for the frontend that you are using. For more information, see\n",
       "https://altair-viz.github.io/user_guide/troubleshooting.html\n"
      ]
     },
     "execution_count": 19,
     "metadata": {},
     "output_type": "execute_result"
    }
   ],
   "source": [
    "alt.Chart(cars, title='AO vs DEN')\\\n",
    "    .mark_point()\\\n",
    "    .encode(x='DEN', y=alt.Y('AO', scale=alt.Scale(zero=False)))"
   ]
  },
  {
   "cell_type": "code",
   "execution_count": 20,
   "metadata": {},
   "outputs": [
    {
     "data": {
      "application/vnd.vegalite.v3+json": {
       "$schema": "https://vega.github.io/schema/vega-lite/v3.2.1.json",
       "config": {
        "mark": {
         "tooltip": null
        },
        "view": {
         "height": 300,
         "width": 400
        }
       },
       "data": {
        "name": "data-4f178b92166a94dc5d89dbe6ec99da46"
       },
       "datasets": {
        "data-4f178b92166a94dc5d89dbe6ec99da46": [
         {
          "AO": 0.27,
          "CON": 1.11,
          "Country": "Austria",
          "DEN": 89,
          "GDP": 7.7,
          "POP": 7.5,
          "PR": 49,
          "TR": 2.6
         },
         {
          "AO": 0.3,
          "CON": 1.04,
          "Country": "Belgium",
          "DEN": 323,
          "GDP": 9.8,
          "POP": 9.8,
          "PR": 59,
          "TR": 1.6
         },
         {
          "AO": 0.42,
          "CON": 2.82,
          "Country": "Canada",
          "DEN": 2,
          "GDP": 8.7,
          "POP": 23.5,
          "PR": 17,
          "TR": 0.1
         },
         {
          "AO": 0.28,
          "CON": 1.21,
          "Country": "Denmark",
          "DEN": 119,
          "GDP": 11,
          "POP": 5.1,
          "PR": 56,
          "TR": 1.9
         },
         {
          "AO": 0.24,
          "CON": 1.22,
          "Country": "Finland",
          "DEN": 16,
          "GDP": 7.1,
          "POP": 4.8,
          "PR": 49,
          "TR": 2.2
         },
         {
          "AO": 0.33,
          "CON": 1.03,
          "Country": "France",
          "DEN": 97,
          "GDP": 8.8,
          "POP": 53.3,
          "PR": 61,
          "TR": 1.5
         },
         {
          "AO": 0.35,
          "CON": 1.11,
          "Country": "Germany",
          "DEN": 247,
          "GDP": 10.4,
          "POP": 61.3,
          "PR": 49,
          "TR": 1.7
         },
         {
          "AO": 0.08,
          "CON": 1.72,
          "Country": "Greece",
          "DEN": 71,
          "GDP": 3.4,
          "POP": 9.4,
          "PR": 56,
          "TR": 0.7
         },
         {
          "AO": 0.34,
          "CON": 1.23,
          "Country": "Iceland",
          "DEN": 2,
          "GDP": 9.8,
          "POP": 0.2,
          "PR": 57,
          "TR": 2
         },
         {
          "AO": 0.2,
          "CON": 1.51,
          "Country": "Ireland",
          "DEN": 46,
          "GDP": 3.8,
          "POP": 3.2,
          "PR": 40,
          "TR": 0.3
         },
         {
          "AO": 0.3,
          "CON": 0.61,
          "Country": "Italy",
          "DEN": 188,
          "GDP": 4.6,
          "POP": 56.7,
          "PR": 61,
          "TR": 1.8
         },
         {
          "AO": 0.18,
          "CON": 1.23,
          "Country": "Japan",
          "DEN": 309,
          "GDP": 8.5,
          "POP": 114.9,
          "PR": 49,
          "TR": 3.5
         },
         {
          "AO": 0.43,
          "CON": 1.61,
          "Country": "Luxembourg",
          "DEN": 138,
          "GDP": 9.8,
          "POP": 0.4,
          "PR": 44,
          "TR": 0.8
         },
         {
          "AO": 0.3,
          "CON": 1.08,
          "Country": "Netherlands",
          "DEN": 412,
          "GDP": 9.4,
          "POP": 13.9,
          "PR": 56,
          "TR": 1.5
         },
         {
          "AO": 0.4,
          "CON": 1.32,
          "Country": "New.Zealand",
          "DEN": 12,
          "GDP": 5.9,
          "POP": 3.1,
          "PR": 34,
          "TR": 0.2
         },
         {
          "AO": 0.28,
          "CON": 1.06,
          "Country": "Norway",
          "DEN": 13,
          "GDP": 9.8,
          "POP": 4.1,
          "PR": 61,
          "TR": 1.7
         },
         {
          "AO": 0.1,
          "CON": 0.73,
          "Country": "Portugal",
          "DEN": 107,
          "GDP": 1.8,
          "POP": 9.8,
          "PR": 68,
          "TR": 0.9
         },
         {
          "AO": 0.18,
          "CON": 0.82,
          "Country": "Spain",
          "DEN": 73,
          "GDP": 4,
          "POP": 36.8,
          "PR": 44,
          "TR": 1.3
         },
         {
          "AO": 0.34,
          "CON": 1.31,
          "Country": "Sweden",
          "DEN": 18,
          "GDP": 10.6,
          "POP": 8.3,
          "PR": 42,
          "TR": 1.7
         },
         {
          "AO": 0.32,
          "CON": 1.33,
          "Country": "Switzerland",
          "DEN": 153,
          "GDP": 13.3,
          "POP": 6.3,
          "PR": 56,
          "TR": 2
         },
         {
          "AO": 0.013999999999999999,
          "CON": 3.32,
          "Country": "Turkey",
          "DEN": 55,
          "GDP": 1.2,
          "POP": 42.7,
          "PR": 36,
          "TR": 0.1
         },
         {
          "AO": 0.27,
          "CON": 1.21,
          "Country": "U.K.",
          "DEN": 229,
          "GDP": 5.5,
          "POP": 55.8,
          "PR": 35,
          "TR": 1.6
         },
         {
          "AO": 0.43,
          "CON": 2.71,
          "Country": "U.S.A.",
          "DEN": 23,
          "GDP": 9.7,
          "POP": 218.2,
          "PR": 17,
          "TR": 0.3
         },
         {
          "AO": 0.09,
          "CON": 1.13,
          "Country": "Yugoslavia",
          "DEN": 86,
          "GDP": 2.1,
          "POP": 22,
          "PR": 40,
          "TR": 2.1
         }
        ]
       },
       "encoding": {
        "x": {
         "field": "PR",
         "type": "quantitative"
        },
        "y": {
         "field": "AO",
         "scale": {
          "zero": false
         },
         "type": "quantitative"
        }
       },
       "mark": "point",
       "title": "AO vs PR"
      },
      "image/png": "[encoded data removed]",
      "text/plain": [
       "<VegaLite 3 object>\n",
       "\n",
       "If you see this message, it means the renderer has not been properly enabled\n",
       "for the frontend that you are using. For more information, see\n",
       "https://altair-viz.github.io/user_guide/troubleshooting.html\n"
      ]
     },
     "execution_count": 20,
     "metadata": {},
     "output_type": "execute_result"
    }
   ],
   "source": [
    "alt.Chart(cars, title='AO vs PR')\\\n",
    ".mark_point().encode(x='PR', y=alt.Y('AO', scale=alt.Scale(zero=False)))"
   ]
  },
  {
   "cell_type": "markdown",
   "metadata": {},
   "source": [
    "Car ownership and GDP seem to be the more strongly correlated of the four relationships chosen. It would appear to have a relatively strong positive correlation. Car ownership and amount of public transport taken appear to have a negative correlation, whereas consumption of petrol and population density do not seem to have much correlation, if any, with car ownership."
   ]
  },
  {
   "cell_type": "markdown",
   "metadata": {},
   "source": [
    "#### b)"
   ]
  },
  {
   "cell_type": "code",
   "execution_count": 21,
   "metadata": {},
   "outputs": [],
   "source": [
    "#code for forward_selected from \n",
    "# https://planspace.org/20150423-forward_selection_with_statsmodels/\n",
    "def forward_selected(data, response):\n",
    "    remaining = set(data.columns)\n",
    "    remaining.remove(response)\n",
    "    selected = []\n",
    "    current_score, best_new_score = 0.0, 0.0\n",
    "    while remaining and current_score == best_new_score:\n",
    "        scores_with_candidates = []\n",
    "        for candidate in remaining:\n",
    "            formula = \"{} ~ {} + 1\".format(response,\n",
    "                                           ' + '.join(selected + [candidate]))\n",
    "            score = smf.ols(formula, data).fit().rsquared_adj\n",
    "            scores_with_candidates.append((score, candidate))\n",
    "        scores_with_candidates.sort()\n",
    "        best_new_score, best_candidate = scores_with_candidates.pop()\n",
    "        if current_score < best_new_score:\n",
    "            remaining.remove(best_candidate)\n",
    "            selected.append(best_candidate)\n",
    "            current_score = best_new_score\n",
    "    formula = \"{} ~ {} + 1\".format(response,\n",
    "                                   ' + '.join(selected))\n",
    "    model = smf.ols(formula, data).fit()\n",
    "    return model"
   ]
  },
  {
   "cell_type": "code",
   "execution_count": 22,
   "metadata": {},
   "outputs": [
    {
     "name": "stdout",
     "output_type": "stream",
     "text": [
      "                            OLS Regression Results                            \n",
      "==============================================================================\n",
      "Dep. Variable:                     AO   R-squared:                       0.842\n",
      "Model:                            OLS   Adj. R-squared:                  0.808\n",
      "Method:                 Least Squares   F-statistic:                     25.26\n",
      "Date:                Tue, 03 Sep 2019   Prob (F-statistic):           2.23e-07\n",
      "Time:                        20:33:32   Log-Likelihood:                 40.624\n",
      "No. Observations:                  24   AIC:                            -71.25\n",
      "Df Residuals:                      19   BIC:                            -65.36\n",
      "Df Model:                           4                                         \n",
      "Covariance Type:            nonrobust                                         \n",
      "==============================================================================\n",
      "                 coef    std err          t      P>|t|      [0.025      0.975]\n",
      "------------------------------------------------------------------------------\n",
      "Intercept      0.4831      0.087      5.541      0.000       0.301       0.666\n",
      "GDP            0.0307      0.003      9.163      0.000       0.024       0.038\n",
      "TR            -0.0623      0.016     -3.804      0.001      -0.097      -0.028\n",
      "CON           -0.1001      0.025     -3.963      0.001      -0.153      -0.047\n",
      "PR            -0.0045      0.001     -3.930      0.001      -0.007      -0.002\n",
      "==============================================================================\n",
      "Omnibus:                        3.521   Durbin-Watson:                   2.434\n",
      "Prob(Omnibus):                  0.172   Jarque-Bera (JB):                2.151\n",
      "Skew:                           0.717   Prob(JB):                        0.341\n",
      "Kurtosis:                       3.310   Cond. No.                         437.\n",
      "==============================================================================\n",
      "\n",
      "Warnings:\n",
      "[1] Standard Errors assume that the covariance matrix of the errors is correctly specified.\n",
      "Variance: 0.0025046815666849172\n"
     ]
    }
   ],
   "source": [
    "m = forward_selected(cars[['AO', 'POP', 'DEN', 'GDP', 'PR', 'CON', 'TR']], 'AO')\n",
    "print(m.summary())\n",
    "print(f'Variance: {m.scale}')"
   ]
  },
  {
   "cell_type": "markdown",
   "metadata": {},
   "source": [
    "$\\hat{AO} = 0.4831 + 0.307GDP - 0.0623TR - 0.01001CON - 0.0045PR$"
   ]
  },
  {
   "cell_type": "markdown",
   "metadata": {},
   "source": [
    "My output only has the final result of the forward selection process, but the full ode can be observed above.\n",
    "\n",
    "The Forward selection is an iterative procedure, starting with only the intercept and testing the addition each parameter, individually, to the model and keeping the new model with the greatest improvement to a selected statistit (F, AIC, Adjusted R-Squared, etc...). The process keeps going, adding one parameter at a time until there is no improvement gained."
   ]
  },
  {
   "cell_type": "markdown",
   "metadata": {},
   "source": [
    "#### c)"
   ]
  },
  {
   "cell_type": "code",
   "execution_count": 23,
   "metadata": {},
   "outputs": [],
   "source": [
    "#code is variation on forward_selected\n",
    "\n",
    "def backward_selected(data, response):\n",
    "    cols = set(data.columns)\n",
    "    cols.remove(response)\n",
    "    cols = list(cols)\n",
    "    currentScore, bestNewScore = 0.0, 0.0\n",
    "    loop = True\n",
    "    \n",
    "    while loop and currentScore == bestNewScore:\n",
    "        scoresAndCandidates = []\n",
    "        rCols = copy.deepcopy(cols)\n",
    "        for col in rCols:\n",
    "            rCols.remove(col)\n",
    "            formula = \"{} ~ {}\".format(response, ' + '.join(rCols))\n",
    "            score = smf.ols(formula, data).fit().rsquared_adj\n",
    "            scoresAndCandidates.append((score, col))\n",
    "        scoresAndCandidates.sort()\n",
    "        bestNewScore, bestCandidate = scoresAndCandidates.pop()\n",
    "        if currentScore < bestNewScore:\n",
    "            cols.remove(bestCandidate)\n",
    "            currentScore = bestNewScore\n",
    "        else:\n",
    "            loop = False\n",
    "    formula = f\"{response} ~ {' + '.join(cols)}\"\n",
    "    model = smf.ols(formula, data).fit()\n",
    "    return model"
   ]
  },
  {
   "cell_type": "code",
   "execution_count": 24,
   "metadata": {},
   "outputs": [
    {
     "name": "stdout",
     "output_type": "stream",
     "text": [
      "                            OLS Regression Results                            \n",
      "==============================================================================\n",
      "Dep. Variable:                     AO   R-squared:                       0.849\n",
      "Model:                            OLS   Adj. R-squared:                  0.795\n",
      "Method:                 Least Squares   F-statistic:                     15.88\n",
      "Date:                Tue, 03 Sep 2019   Prob (F-statistic):           4.01e-06\n",
      "Time:                        20:33:32   Log-Likelihood:                 41.155\n",
      "No. Observations:                  24   AIC:                            -68.31\n",
      "Df Residuals:                      17   BIC:                            -60.06\n",
      "Df Model:                           6                                         \n",
      "Covariance Type:            nonrobust                                         \n",
      "==============================================================================\n",
      "                 coef    std err          t      P>|t|      [0.025      0.975]\n",
      "------------------------------------------------------------------------------\n",
      "Intercept      0.4706      0.092      5.143      0.000       0.278       0.664\n",
      "GDP            0.0308      0.003      8.865      0.000       0.024       0.038\n",
      "DEN        -5.799e-05      0.000     -0.526      0.606      -0.000       0.000\n",
      "PR            -0.0041      0.001     -3.184      0.005      -0.007      -0.001\n",
      "TR            -0.0643      0.018     -3.639      0.002      -0.102      -0.027\n",
      "POP            0.0002      0.000      0.817      0.425      -0.000       0.001\n",
      "CON           -0.1045      0.027     -3.929      0.001      -0.161      -0.048\n",
      "==============================================================================\n",
      "Omnibus:                        2.361   Durbin-Watson:                   2.310\n",
      "Prob(Omnibus):                  0.307   Jarque-Bera (JB):                1.578\n",
      "Skew:                           0.628   Prob(JB):                        0.454\n",
      "Kurtosis:                       2.962   Cond. No.                     1.50e+03\n",
      "==============================================================================\n",
      "\n",
      "Warnings:\n",
      "[1] Standard Errors assume that the covariance matrix of the errors is correctly specified.\n",
      "[2] The condition number is large, 1.5e+03. This might indicate that there are\n",
      "strong multicollinearity or other numerical problems.\n",
      "Variance: 0.0026781484515375426\n"
     ]
    }
   ],
   "source": [
    "m = backward_selected(cars[['AO', 'POP', 'DEN', 'GDP', 'PR', 'CON', 'TR']], 'AO')\n",
    "print(m.summary())\n",
    "print(f'Variance: {m.scale}')"
   ]
  },
  {
   "cell_type": "markdown",
   "metadata": {},
   "source": [
    "$\\hat{AO} = 0.1824 + 0.0291GDP - 0.0344TR - 3.067e-05POP - 0.0017PR - 1.16e05DEN$"
   ]
  },
  {
   "cell_type": "markdown",
   "metadata": {},
   "source": [
    "Backwards elimination process:\n",
    "\n",
    "Based on a chosen metric (F score, AIC, Adj. R-Squared, etc…), iteratively test improvements on that metric from a fit model that uses all possible inputs. The improvements are measured by removing one input at a time and selecting the best new model, as per the chosen metric, with now one less parameter. This is repeated, removing one parameter from the model, until no improvements are gained from removing a parameter.\n"
   ]
  },
  {
   "cell_type": "markdown",
   "metadata": {},
   "source": [
    "#### d)"
   ]
  },
  {
   "cell_type": "code",
   "execution_count": 25,
   "metadata": {},
   "outputs": [],
   "source": [
    "#calculate press statistic\n",
    "def calcPress(X, Y, Ypred):\n",
    "    X = np.matrix(X)\n",
    "    h = np.matmul(X,\n",
    "                  np.matmul(np.linalg.inv(np.matmul(X.transpose(), X)), \n",
    "                            X.transpose()))\n",
    "    press = 0\n",
    "    #for i in range(lenth(Y)):\n",
    "    press = press + (((Y - Ypred)**2 / (1-np.diagonal(h)))**2).sum()\n",
    "    return press"
   ]
  },
  {
   "cell_type": "code",
   "execution_count": 26,
   "metadata": {},
   "outputs": [],
   "source": [
    "def calcYpred(model, inputs):\n",
    "    y = model.predict(inputs)\n",
    "    return y"
   ]
  },
  {
   "cell_type": "code",
   "execution_count": 27,
   "metadata": {},
   "outputs": [
    {
     "name": "stdout",
     "output_type": "stream",
     "text": [
      "AO ~ GDP : \n",
      "AIC: -52.8908 - PRESS: 0.0019 - RSquared: 0.5633 - m: 2 - Cm: 29.026\n",
      "AO ~ PR : \n",
      "AIC: -34.7088 - PRESS: 0.0105 - RSquared: 0.0685 - m: 2 - Cm: 84.578\n",
      "AO ~ CON : \n",
      "AIC: -33.0052 - PRESS: 0.0127 - RSquared: 6.7618 - m: 2 - Cm: 92.271\n",
      "AO ~ TR : \n",
      "AIC: -33.1466 - PRESS: 0.0105 - RSquared: 0.0058 - m: 2 - Cm: 91.612\n",
      "AO ~ GDP + PR : \n",
      "AIC: -57.2986 - PRESS: 0.0015 - RSquared: 0.6656 - m: 3 - Cm: 19.538\n",
      "AO ~ GDP + CON : \n",
      "AIC: -51.1158 - PRESS: 0.0026 - RSquared: 0.5674 - m: 3 - Cm: 30.568\n",
      "AO ~ GDP + TR : \n",
      "AIC: -58.3450 - PRESS: 0.0012 - RSquared: 0.6799 - m: 3 - Cm: 17.936\n",
      "AO ~ PR + CON : \n",
      "AIC: -34.5919 - PRESS: 0.0079 - RSquared: 0.1388 - m: 3 - Cm: 78.686\n",
      "AO ~ PR + TR : \n",
      "AIC: -32.7925 - PRESS: 0.0115 - RSquared: 0.0717 - m: 3 - Cm: 86.214\n",
      "AO ~ CON + TR : \n",
      "AIC: -31.2181 - PRESS: 0.0158 - RSquared: 0.0088 - m: 3 - Cm: 93.280\n",
      "AO ~ GDP + PR + CON : \n",
      "AIC: -59.6559 - PRESS: 0.0009 - RSquared: 0.7211 - m: 4 - Cm: 15.305\n",
      "AO ~ GDP + PR + TR : \n",
      "AIC: -58.7871 - PRESS: 0.0015 - RSquared: 0.7108 - m: 4 - Cm: 16.459\n",
      "AO ~ GDP + CON + TR : \n",
      "AIC: -58.9709 - PRESS: 0.0008 - RSquared: 0.7130 - m: 4 - Cm: 16.212\n",
      "AO ~ PR + CON + TR : \n",
      "AIC: -32.6888 - PRESS: 0.0086 - RSquared: 0.1422 - m: 4 - Cm: 80.297\n",
      "AO ~ GDP + PR + CON + TR : \n",
      "AIC: -71.2479 - PRESS: 0.0004 - RSquared: 0.8417 - m: 5 - Cm: 3.7693\n"
     ]
    }
   ],
   "source": [
    "variables = ['GDP', 'PR', 'CON', 'TR']\n",
    "#variables = variables.drop('y')\n",
    "bestFormula = ''\n",
    "bestAIC = 9999999\n",
    "maxAIC = 0\n",
    "\n",
    "fullModelMSE = smf.ols('AO ~ POP + DEN + GDP + PR + CON + TR', cars).fit().mse_resid\n",
    "\n",
    "for i in range(1, len(variables)+1):\n",
    "    combs = combinations(variables, i)\n",
    "    \n",
    "    \n",
    "    for c in combs:\n",
    "        formula = 'AO ~'\n",
    "        for v in c:\n",
    "            formula = formula + f' + {v}'\n",
    "        formula = formula.replace('~ + ', '~ ')\n",
    "        fit = smf.ols(formula, cars).fit()\n",
    "        fit.predict()\n",
    "        if fit.aic < bestAIC:\n",
    "            bestAIC = fit.aic\n",
    "            bestFormula = formula\n",
    "        if fit.aic > maxAIC:\n",
    "            maxAIC = fit.aic\n",
    "        ypred = calcYpred(fit, cars[[x for x in c]])\n",
    "        print(f'{formula} : ')\n",
    "        press = str(calcPress(cars[[x for x in c]], cars.AO, ypred))[:6]\n",
    "        cm = ((fit.mse_resid * fit.df_resid) / fullModelMSE)\\\n",
    "                - len(cars) + 2*len(fit.params)\n",
    "        \n",
    "        print(f'AIC: {str(fit.aic)[:8]} - PRESS: {press} - RSquared: {str(fit.rsquared)[:6]} - m: {len(fit.params)} - Cm: {str(cm)[:6]}')"
   ]
  },
  {
   "cell_type": "code",
   "execution_count": 28,
   "metadata": {},
   "outputs": [
    {
     "name": "stdout",
     "output_type": "stream",
     "text": [
      "                            OLS Regression Results                            \n",
      "==============================================================================\n",
      "Dep. Variable:                     AO   R-squared:                       0.842\n",
      "Model:                            OLS   Adj. R-squared:                  0.808\n",
      "Method:                 Least Squares   F-statistic:                     25.26\n",
      "Date:                Tue, 03 Sep 2019   Prob (F-statistic):           2.23e-07\n",
      "Time:                        20:33:33   Log-Likelihood:                 40.624\n",
      "No. Observations:                  24   AIC:                            -71.25\n",
      "Df Residuals:                      19   BIC:                            -65.36\n",
      "Df Model:                           4                                         \n",
      "Covariance Type:            nonrobust                                         \n",
      "==============================================================================\n",
      "                 coef    std err          t      P>|t|      [0.025      0.975]\n",
      "------------------------------------------------------------------------------\n",
      "Intercept      0.4831      0.087      5.541      0.000       0.301       0.666\n",
      "GDP            0.0307      0.003      9.163      0.000       0.024       0.038\n",
      "PR            -0.0045      0.001     -3.930      0.001      -0.007      -0.002\n",
      "CON           -0.1001      0.025     -3.963      0.001      -0.153      -0.047\n",
      "TR            -0.0623      0.016     -3.804      0.001      -0.097      -0.028\n",
      "==============================================================================\n",
      "Omnibus:                        3.521   Durbin-Watson:                   2.434\n",
      "Prob(Omnibus):                  0.172   Jarque-Bera (JB):                2.151\n",
      "Skew:                           0.717   Prob(JB):                        0.341\n",
      "Kurtosis:                       3.310   Cond. No.                         437.\n",
      "==============================================================================\n",
      "\n",
      "Warnings:\n",
      "[1] Standard Errors assume that the covariance matrix of the errors is correctly specified.\n"
     ]
    }
   ],
   "source": [
    "print(smf.ols(bestFormula, cars).fit().summary())"
   ]
  },
  {
   "cell_type": "markdown",
   "metadata": {},
   "source": [
    "Selected Model: $\\hat{AO} = 0.4831 + 0.307GDP - 0.0623TR - 0.1001CON - 0.0045PR$"
   ]
  },
  {
   "cell_type": "markdown",
   "metadata": {},
   "source": [
    "## Question 3"
   ]
  },
  {
   "cell_type": "code",
   "execution_count": 29,
   "metadata": {},
   "outputs": [
    {
     "data": {
      "text/html": [
       "<div>\n",
       "<style scoped>\n",
       "    .dataframe tbody tr th:only-of-type {\n",
       "        vertical-align: middle;\n",
       "    }\n",
       "\n",
       "    .dataframe tbody tr th {\n",
       "        vertical-align: top;\n",
       "    }\n",
       "\n",
       "    .dataframe thead th {\n",
       "        text-align: right;\n",
       "    }\n",
       "</style>\n",
       "<table border=\"1\" class=\"dataframe\">\n",
       "  <thead>\n",
       "    <tr style=\"text-align: right;\">\n",
       "      <th></th>\n",
       "      <th>Breadth</th>\n",
       "      <th>Length</th>\n",
       "      <th>Site</th>\n",
       "      <th>Site Name</th>\n",
       "    </tr>\n",
       "  </thead>\n",
       "  <tbody>\n",
       "    <tr>\n",
       "      <th>0</th>\n",
       "      <td>6.5</td>\n",
       "      <td>8.5</td>\n",
       "      <td>1</td>\n",
       "      <td>Dangar Island</td>\n",
       "    </tr>\n",
       "    <tr>\n",
       "      <th>1</th>\n",
       "      <td>6.0</td>\n",
       "      <td>9.0</td>\n",
       "      <td>1</td>\n",
       "      <td>Dangar Island</td>\n",
       "    </tr>\n",
       "    <tr>\n",
       "      <th>2</th>\n",
       "      <td>6.5</td>\n",
       "      <td>9.0</td>\n",
       "      <td>1</td>\n",
       "      <td>Dangar Island</td>\n",
       "    </tr>\n",
       "    <tr>\n",
       "      <th>3</th>\n",
       "      <td>7.0</td>\n",
       "      <td>9.0</td>\n",
       "      <td>1</td>\n",
       "      <td>Dangar Island</td>\n",
       "    </tr>\n",
       "    <tr>\n",
       "      <th>4</th>\n",
       "      <td>8.0</td>\n",
       "      <td>9.5</td>\n",
       "      <td>1</td>\n",
       "      <td>Dangar Island</td>\n",
       "    </tr>\n",
       "  </tbody>\n",
       "</table>\n",
       "</div>"
      ],
      "text/plain": [
       "   Breadth  Length  Site      Site Name\n",
       "0      6.5     8.5     1  Dangar Island\n",
       "1      6.0     9.0     1  Dangar Island\n",
       "2      6.5     9.0     1  Dangar Island\n",
       "3      7.0     9.0     1  Dangar Island\n",
       "4      8.0     9.5     1  Dangar Island"
      ]
     },
     "execution_count": 29,
     "metadata": {},
     "output_type": "execute_result"
    }
   ],
   "source": [
    "jelly = pd.read_csv('Data/jelly.dat', sep='\\s+')\n",
    "jelly['Site Name'] = jelly.Site.map(lambda x: 'Salamander Bay' \n",
    "                                                if x==2 \n",
    "                                                else 'Dangar Island')\n",
    "jelly.head()"
   ]
  },
  {
   "cell_type": "markdown",
   "metadata": {},
   "source": [
    "#### a)"
   ]
  },
  {
   "cell_type": "code",
   "execution_count": 30,
   "metadata": {},
   "outputs": [
    {
     "name": "stdout",
     "output_type": "stream",
     "text": [
      "                            OLS Regression Results                            \n",
      "==============================================================================\n",
      "Dep. Variable:                Breadth   R-squared:                       0.915\n",
      "Model:                            OLS   Adj. R-squared:                  0.910\n",
      "Method:                 Least Squares   F-statistic:                     214.6\n",
      "Date:                Tue, 03 Sep 2019   Prob (F-statistic):           3.72e-12\n",
      "Time:                        20:33:33   Log-Likelihood:                -29.794\n",
      "No. Observations:                  22   AIC:                             63.59\n",
      "Df Residuals:                      20   BIC:                             65.77\n",
      "Df Model:                           1                                         \n",
      "Covariance Type:            nonrobust                                         \n",
      "==============================================================================\n",
      "                 coef    std err          t      P>|t|      [0.025      0.975]\n",
      "------------------------------------------------------------------------------\n",
      "Intercept     -2.9374      0.920     -3.194      0.005      -4.856      -1.019\n",
      "Length         1.0534      0.072     14.650      0.000       0.903       1.203\n",
      "==============================================================================\n",
      "Omnibus:                        0.410   Durbin-Watson:                   2.254\n",
      "Prob(Omnibus):                  0.815   Jarque-Bera (JB):                0.043\n",
      "Skew:                          -0.108   Prob(JB):                        0.979\n",
      "Kurtosis:                       3.005   Cond. No.                         56.5\n",
      "==============================================================================\n",
      "\n",
      "Warnings:\n",
      "[1] Standard Errors assume that the covariance matrix of the errors is correctly specified.\n"
     ]
    }
   ],
   "source": [
    "j1Fit = smf.ols('Breadth ~ Length', jelly[jelly.Site==1]).fit()\n",
    "print(j1Fit.summary())"
   ]
  },
  {
   "cell_type": "markdown",
   "metadata": {},
   "source": [
    "Site 1:  $\\hat{Breadth} = -29374 + 1.0534Length$"
   ]
  },
  {
   "cell_type": "code",
   "execution_count": 31,
   "metadata": {},
   "outputs": [
    {
     "name": "stdout",
     "output_type": "stream",
     "text": [
      "                            OLS Regression Results                            \n",
      "==============================================================================\n",
      "Dep. Variable:                Breadth   R-squared:                       0.625\n",
      "Model:                            OLS   Adj. R-squared:                  0.608\n",
      "Method:                 Least Squares   F-statistic:                     36.68\n",
      "Date:                Tue, 03 Sep 2019   Prob (F-statistic):           4.28e-06\n",
      "Time:                        20:33:34   Log-Likelihood:                -40.551\n",
      "No. Observations:                  24   AIC:                             85.10\n",
      "Df Residuals:                      22   BIC:                             87.46\n",
      "Df Model:                           1                                         \n",
      "Covariance Type:            nonrobust                                         \n",
      "==============================================================================\n",
      "                 coef    std err          t      P>|t|      [0.025      0.975]\n",
      "------------------------------------------------------------------------------\n",
      "Intercept     -0.8003      2.826     -0.283      0.780      -6.661       5.060\n",
      "Length         0.8924      0.147      6.056      0.000       0.587       1.198\n",
      "==============================================================================\n",
      "Omnibus:                        0.436   Durbin-Watson:                   1.849\n",
      "Prob(Omnibus):                  0.804   Jarque-Bera (JB):                0.405\n",
      "Skew:                          -0.274   Prob(JB):                        0.817\n",
      "Kurtosis:                       2.676   Cond. No.                         194.\n",
      "==============================================================================\n",
      "\n",
      "Warnings:\n",
      "[1] Standard Errors assume that the covariance matrix of the errors is correctly specified.\n"
     ]
    }
   ],
   "source": [
    "j2Fit = smf.ols('Breadth ~ Length', jelly[jelly.Site==2]).fit()\n",
    "print(j2Fit.summary())"
   ]
  },
  {
   "cell_type": "markdown",
   "metadata": {},
   "source": [
    "Site 2:  $\\hat{Breadth} = -0.8003 + 0.8924Length$"
   ]
  },
  {
   "cell_type": "markdown",
   "metadata": {},
   "source": [
    "#### b)\n",
    "\n",
    "Yes, they are.  The slope for Site 1 (Dangar Island) is 1.0534, while Site 2 (Salamander Bay) is 0.8924.\n",
    "\n",
    "#### c)\n",
    "\n",
    "Yes, they are. The intercepts for the two sites are -2.0374 for Dangar Island and -0.8003 for Salamander Bay.\n",
    "\n",
    "#### d)\n",
    "\n",
    "d)\tYes, the jellies in Salamander Bay do not seem to grow as much in Breadth per unit length compared to those in Dangar Island. Also, given the differences in intercepts, it seems likely that Dangar Island has the smaller Jellies and an overall larger range of jelly sizes."
   ]
  },
  {
   "cell_type": "markdown",
   "metadata": {},
   "source": [
    "#### e)"
   ]
  },
  {
   "cell_type": "code",
   "execution_count": 32,
   "metadata": {},
   "outputs": [
    {
     "data": {
      "application/vnd.vegalite.v3+json": {
       "$schema": "https://vega.github.io/schema/vega-lite/v3.2.1.json",
       "config": {
        "mark": {
         "tooltip": null
        },
        "view": {
         "height": 300,
         "width": 400
        }
       },
       "datasets": {
        "data-577fb9b15418295de0181272fe55846f": [
         {
          "Breadth": -0.8003137065637151,
          "Length": 0
         },
         {
          "Breadth": 0.0920608108108033,
          "Length": 1
         },
         {
          "Breadth": 0.9844353281853218,
          "Length": 2
         },
         {
          "Breadth": 1.87680984555984,
          "Length": 3
         },
         {
          "Breadth": 2.7691843629343587,
          "Length": 4
         },
         {
          "Breadth": 3.6615588803088768,
          "Length": 5
         },
         {
          "Breadth": 4.553933397683395,
          "Length": 6
         },
         {
          "Breadth": 5.446307915057914,
          "Length": 7
         },
         {
          "Breadth": 6.3386824324324325,
          "Length": 8
         },
         {
          "Breadth": 7.23105694980695,
          "Length": 9
         },
         {
          "Breadth": 8.123431467181469,
          "Length": 10
         },
         {
          "Breadth": 9.015805984555987,
          "Length": 11
         },
         {
          "Breadth": 9.908180501930506,
          "Length": 12
         },
         {
          "Breadth": 10.800555019305024,
          "Length": 13
         },
         {
          "Breadth": 11.692929536679543,
          "Length": 14
         },
         {
          "Breadth": 12.585304054054061,
          "Length": 15
         },
         {
          "Breadth": 13.47767857142858,
          "Length": 16
         },
         {
          "Breadth": 14.370053088803099,
          "Length": 17
         },
         {
          "Breadth": 15.262427606177615,
          "Length": 18
         },
         {
          "Breadth": 16.154802123552138,
          "Length": 19
         },
         {
          "Breadth": 17.04717664092665,
          "Length": 20
         },
         {
          "Breadth": 17.93955115830117,
          "Length": 21
         },
         {
          "Breadth": 18.83192567567569,
          "Length": 22
         },
         {
          "Breadth": 19.72430019305021,
          "Length": 23
         },
         {
          "Breadth": 20.616674710424725,
          "Length": 24
         }
        ],
        "data-d46e03bc7b93711929d9b074aa4e63ec": [
         {
          "Breadth": -2.93739362995381,
          "Length": 0
         },
         {
          "Breadth": -1.884026258205694,
          "Length": 1
         },
         {
          "Breadth": -0.8306588864575777,
          "Length": 2
         },
         {
          "Breadth": 0.22270848529053833,
          "Length": 3
         },
         {
          "Breadth": 1.2760758570386548,
          "Length": 4
         },
         {
          "Breadth": 2.3294432287867712,
          "Length": 5
         },
         {
          "Breadth": 3.382810600534887,
          "Length": 6
         },
         {
          "Breadth": 4.436177972283003,
          "Length": 7
         },
         {
          "Breadth": 5.48954534403112,
          "Length": 8
         },
         {
          "Breadth": 6.542912715779236,
          "Length": 9
         },
         {
          "Breadth": 7.596280087527353,
          "Length": 10
         },
         {
          "Breadth": 8.649647459275469,
          "Length": 11
         },
         {
          "Breadth": 9.703014831023584,
          "Length": 12
         },
         {
          "Breadth": 10.7563822027717,
          "Length": 13
         },
         {
          "Breadth": 11.809749574519817,
          "Length": 14
         },
         {
          "Breadth": 12.863116946267933,
          "Length": 15
         },
         {
          "Breadth": 13.91648431801605,
          "Length": 16
         },
         {
          "Breadth": 14.969851689764166,
          "Length": 17
         },
         {
          "Breadth": 16.023219061512282,
          "Length": 18
         },
         {
          "Breadth": 17.0765864332604,
          "Length": 19
         },
         {
          "Breadth": 18.129953805008515,
          "Length": 20
         },
         {
          "Breadth": 19.183321176756632,
          "Length": 21
         },
         {
          "Breadth": 20.23668854850475,
          "Length": 22
         },
         {
          "Breadth": 21.290055920252865,
          "Length": 23
         },
         {
          "Breadth": 22.343423292000978,
          "Length": 24
         }
        ],
        "data-fd9b5a3248c81f2908676b3d8e0a860f": [
         {
          "Breadth": 6.5,
          "Length": 8.5,
          "Site": 1,
          "Site Name": "Dangar Island"
         },
         {
          "Breadth": 6,
          "Length": 9,
          "Site": 1,
          "Site Name": "Dangar Island"
         },
         {
          "Breadth": 6.5,
          "Length": 9,
          "Site": 1,
          "Site Name": "Dangar Island"
         },
         {
          "Breadth": 7,
          "Length": 9,
          "Site": 1,
          "Site Name": "Dangar Island"
         },
         {
          "Breadth": 8,
          "Length": 9.5,
          "Site": 1,
          "Site Name": "Dangar Island"
         },
         {
          "Breadth": 7,
          "Length": 10,
          "Site": 1,
          "Site Name": "Dangar Island"
         },
         {
          "Breadth": 8,
          "Length": 10,
          "Site": 1,
          "Site Name": "Dangar Island"
         },
         {
          "Breadth": 8,
          "Length": 10.5,
          "Site": 1,
          "Site Name": "Dangar Island"
         },
         {
          "Breadth": 7,
          "Length": 11,
          "Site": 1,
          "Site Name": "Dangar Island"
         },
         {
          "Breadth": 8,
          "Length": 11,
          "Site": 1,
          "Site Name": "Dangar Island"
         },
         {
          "Breadth": 9,
          "Length": 11.5,
          "Site": 1,
          "Site Name": "Dangar Island"
         },
         {
          "Breadth": 10,
          "Length": 13,
          "Site": 1,
          "Site Name": "Dangar Island"
         },
         {
          "Breadth": 11,
          "Length": 13,
          "Site": 1,
          "Site Name": "Dangar Island"
         },
         {
          "Breadth": 12,
          "Length": 13.5,
          "Site": 1,
          "Site Name": "Dangar Island"
         },
         {
          "Breadth": 11,
          "Length": 14,
          "Site": 1,
          "Site Name": "Dangar Island"
         },
         {
          "Breadth": 11,
          "Length": 14,
          "Site": 1,
          "Site Name": "Dangar Island"
         },
         {
          "Breadth": 13,
          "Length": 14,
          "Site": 1,
          "Site Name": "Dangar Island"
         },
         {
          "Breadth": 14,
          "Length": 16,
          "Site": 1,
          "Site Name": "Dangar Island"
         },
         {
          "Breadth": 15,
          "Length": 16,
          "Site": 1,
          "Site Name": "Dangar Island"
         },
         {
          "Breadth": 15,
          "Length": 16.5,
          "Site": 1,
          "Site Name": "Dangar Island"
         },
         {
          "Breadth": 15,
          "Length": 19,
          "Site": 1,
          "Site Name": "Dangar Island"
         },
         {
          "Breadth": 16,
          "Length": 16,
          "Site": 1,
          "Site Name": "Dangar Island"
         },
         {
          "Breadth": 12,
          "Length": 14,
          "Site": 2,
          "Site Name": "Salamander Bay"
         },
         {
          "Breadth": 15,
          "Length": 16.5,
          "Site": 2,
          "Site Name": "Salamander Bay"
         },
         {
          "Breadth": 14,
          "Length": 16.5,
          "Site": 2,
          "Site Name": "Salamander Bay"
         },
         {
          "Breadth": 13,
          "Length": 17,
          "Site": 2,
          "Site Name": "Salamander Bay"
         },
         {
          "Breadth": 15,
          "Length": 17,
          "Site": 2,
          "Site Name": "Salamander Bay"
         },
         {
          "Breadth": 15,
          "Length": 18,
          "Site": 2,
          "Site Name": "Salamander Bay"
         },
         {
          "Breadth": 15,
          "Length": 18,
          "Site": 2,
          "Site Name": "Salamander Bay"
         },
         {
          "Breadth": 16,
          "Length": 18.5,
          "Site": 2,
          "Site Name": "Salamander Bay"
         },
         {
          "Breadth": 14,
          "Length": 19,
          "Site": 2,
          "Site Name": "Salamander Bay"
         },
         {
          "Breadth": 15,
          "Length": 19,
          "Site": 2,
          "Site Name": "Salamander Bay"
         },
         {
          "Breadth": 16,
          "Length": 19,
          "Site": 2,
          "Site Name": "Salamander Bay"
         },
         {
          "Breadth": 16.5,
          "Length": 19,
          "Site": 2,
          "Site Name": "Salamander Bay"
         },
         {
          "Breadth": 18,
          "Length": 19,
          "Site": 2,
          "Site Name": "Salamander Bay"
         },
         {
          "Breadth": 18,
          "Length": 19.5,
          "Site": 2,
          "Site Name": "Salamander Bay"
         },
         {
          "Breadth": 16,
          "Length": 20,
          "Site": 2,
          "Site Name": "Salamander Bay"
         },
         {
          "Breadth": 16,
          "Length": 20,
          "Site": 2,
          "Site Name": "Salamander Bay"
         },
         {
          "Breadth": 17,
          "Length": 20,
          "Site": 2,
          "Site Name": "Salamander Bay"
         },
         {
          "Breadth": 18,
          "Length": 20,
          "Site": 2,
          "Site Name": "Salamander Bay"
         },
         {
          "Breadth": 19,
          "Length": 20.5,
          "Site": 2,
          "Site Name": "Salamander Bay"
         },
         {
          "Breadth": 15,
          "Length": 21,
          "Site": 2,
          "Site Name": "Salamander Bay"
         },
         {
          "Breadth": 16,
          "Length": 21,
          "Site": 2,
          "Site Name": "Salamander Bay"
         },
         {
          "Breadth": 21,
          "Length": 21.5,
          "Site": 2,
          "Site Name": "Salamander Bay"
         },
         {
          "Breadth": 19,
          "Length": 22,
          "Site": 2,
          "Site Name": "Salamander Bay"
         },
         {
          "Breadth": 20,
          "Length": 22,
          "Site": 2,
          "Site Name": "Salamander Bay"
         }
        ]
       },
       "layer": [
        {
         "data": {
          "name": "data-fd9b5a3248c81f2908676b3d8e0a860f"
         },
         "encoding": {
          "color": {
           "field": "Site Name",
           "type": "nominal"
          },
          "shape": {
           "field": "Site Name",
           "type": "nominal"
          },
          "x": {
           "field": "Length",
           "type": "quantitative"
          },
          "y": {
           "field": "Breadth",
           "type": "quantitative"
          }
         },
         "mark": "point",
         "title": "Jellyfish Sizes"
        },
        {
         "data": {
          "name": "data-d46e03bc7b93711929d9b074aa4e63ec"
         },
         "encoding": {
          "x": {
           "field": "Length",
           "type": "quantitative"
          },
          "y": {
           "field": "Breadth",
           "type": "quantitative"
          }
         },
         "mark": "line"
        },
        {
         "data": {
          "name": "data-577fb9b15418295de0181272fe55846f"
         },
         "encoding": {
          "x": {
           "field": "Length",
           "type": "quantitative"
          },
          "y": {
           "field": "Breadth",
           "type": "quantitative"
          }
         },
         "mark": {
          "color": "orange",
          "type": "line"
         }
        }
       ]
      },
      "image/png": "[encoded data removed]",
      "text/plain": [
       "<VegaLite 3 object>\n",
       "\n",
       "If you see this message, it means the renderer has not been properly enabled\n",
       "for the frontend that you are using. For more information, see\n",
       "https://altair-viz.github.io/user_guide/troubleshooting.html\n"
      ]
     },
     "execution_count": 32,
     "metadata": {},
     "output_type": "execute_result"
    }
   ],
   "source": [
    "alt.Chart(jelly, title='Jellyfish Sizes')\\\n",
    "    .mark_point()\\\n",
    "    .encode(\n",
    "        x='Length', \n",
    "        y='Breadth', \n",
    "        color='Site Name:N', \n",
    "        shape='Site Name:N') + \\\n",
    "\n",
    "alt.Chart(pd.DataFrame({'Breadth':[j1Fit.params[0] + x*j1Fit.params[1] \n",
    "                                   for x in range(25)], \n",
    "                        'Length':[x for x in range(25)]}))\\\n",
    "    .mark_line()\\\n",
    "    .encode(x='Length', y='Breadth') + \\\n",
    "alt.Chart(pd.DataFrame({'Breadth':[j2Fit.params[0] + x*j2Fit.params[1] \n",
    "                                   for x in range(25)], \n",
    "                        'Length':[x for x in range(25)]}))\\\n",
    "    .mark_line(color='orange')\\\n",
    "    .encode(x='Length', y='Breadth')"
   ]
  },
  {
   "cell_type": "markdown",
   "metadata": {},
   "source": [
    "The jellies that have been measured in Dangar island are generally smaller than those of Salamander Bay.  The sizes of Salamander Bay Jellies do seem to cluster closer together than those of Dangar Island, where there is a more linear relationship between length and breadth."
   ]
  },
  {
   "cell_type": "markdown",
   "metadata": {},
   "source": [
    "## Question 4"
   ]
  },
  {
   "cell_type": "markdown",
   "metadata": {},
   "source": [
    "#### a)"
   ]
  },
  {
   "cell_type": "code",
   "execution_count": 33,
   "metadata": {},
   "outputs": [
    {
     "data": {
      "text/html": [
       "<div>\n",
       "<style scoped>\n",
       "    .dataframe tbody tr th:only-of-type {\n",
       "        vertical-align: middle;\n",
       "    }\n",
       "\n",
       "    .dataframe tbody tr th {\n",
       "        vertical-align: top;\n",
       "    }\n",
       "\n",
       "    .dataframe thead th {\n",
       "        text-align: right;\n",
       "    }\n",
       "</style>\n",
       "<table border=\"1\" class=\"dataframe\">\n",
       "  <thead>\n",
       "    <tr style=\"text-align: right;\">\n",
       "      <th></th>\n",
       "      <th>A</th>\n",
       "      <th>T</th>\n",
       "      <th>S</th>\n",
       "      <th>C</th>\n",
       "      <th>P</th>\n",
       "      <th>E</th>\n",
       "      <th>y</th>\n",
       "      <th>AS</th>\n",
       "      <th>AC</th>\n",
       "      <th>AP</th>\n",
       "      <th>AE</th>\n",
       "    </tr>\n",
       "  </thead>\n",
       "  <tbody>\n",
       "    <tr>\n",
       "      <th>0</th>\n",
       "      <td>0</td>\n",
       "      <td>0</td>\n",
       "      <td>1.75</td>\n",
       "      <td>13.4</td>\n",
       "      <td>0.274</td>\n",
       "      <td>2</td>\n",
       "      <td>2.61</td>\n",
       "      <td>0.00</td>\n",
       "      <td>0.0</td>\n",
       "      <td>0.000</td>\n",
       "      <td>0</td>\n",
       "    </tr>\n",
       "    <tr>\n",
       "      <th>1</th>\n",
       "      <td>1</td>\n",
       "      <td>3</td>\n",
       "      <td>4.10</td>\n",
       "      <td>3.9</td>\n",
       "      <td>0.198</td>\n",
       "      <td>2</td>\n",
       "      <td>1.81</td>\n",
       "      <td>4.10</td>\n",
       "      <td>3.9</td>\n",
       "      <td>0.198</td>\n",
       "      <td>2</td>\n",
       "    </tr>\n",
       "    <tr>\n",
       "      <th>2</th>\n",
       "      <td>0</td>\n",
       "      <td>4</td>\n",
       "      <td>2.35</td>\n",
       "      <td>5.3</td>\n",
       "      <td>0.526</td>\n",
       "      <td>1</td>\n",
       "      <td>1.78</td>\n",
       "      <td>0.00</td>\n",
       "      <td>0.0</td>\n",
       "      <td>0.000</td>\n",
       "      <td>0</td>\n",
       "    </tr>\n",
       "    <tr>\n",
       "      <th>3</th>\n",
       "      <td>1</td>\n",
       "      <td>6</td>\n",
       "      <td>4.25</td>\n",
       "      <td>7.1</td>\n",
       "      <td>0.250</td>\n",
       "      <td>1</td>\n",
       "      <td>0.83</td>\n",
       "      <td>4.25</td>\n",
       "      <td>7.1</td>\n",
       "      <td>0.250</td>\n",
       "      <td>1</td>\n",
       "    </tr>\n",
       "    <tr>\n",
       "      <th>4</th>\n",
       "      <td>0</td>\n",
       "      <td>9</td>\n",
       "      <td>1.60</td>\n",
       "      <td>6.9</td>\n",
       "      <td>0.018</td>\n",
       "      <td>2</td>\n",
       "      <td>1.28</td>\n",
       "      <td>0.00</td>\n",
       "      <td>0.0</td>\n",
       "      <td>0.000</td>\n",
       "      <td>0</td>\n",
       "    </tr>\n",
       "  </tbody>\n",
       "</table>\n",
       "</div>"
      ],
      "text/plain": [
       "   A  T     S     C      P  E     y    AS   AC     AP  AE\n",
       "0  0  0  1.75  13.4  0.274  2  2.61  0.00  0.0  0.000   0\n",
       "1  1  3  4.10   3.9  0.198  2  1.81  4.10  3.9  0.198   2\n",
       "2  0  4  2.35   5.3  0.526  1  1.78  0.00  0.0  0.000   0\n",
       "3  1  6  4.25   7.1  0.250  1  0.83  4.25  7.1  0.250   1\n",
       "4  0  9  1.60   6.9  0.018  2  1.28  0.00  0.0  0.000   0"
      ]
     },
     "execution_count": 33,
     "metadata": {},
     "output_type": "execute_result"
    }
   ],
   "source": [
    "cloud = pd.read_csv('Data\\cloud.dat', sep='\\s+')\n",
    "#cloud.A = cloud.A + 1\n",
    "for col in ['S', 'C', 'P', 'E']:\n",
    "    cloud[f'A{col}'] = cloud.A * cloud[col]\n",
    "cloud.head()"
   ]
  },
  {
   "cell_type": "code",
   "execution_count": 34,
   "metadata": {},
   "outputs": [
    {
     "name": "stdout",
     "output_type": "stream",
     "text": [
      "                            OLS Regression Results                            \n",
      "==============================================================================\n",
      "Dep. Variable:                      y   R-squared:                       0.879\n",
      "Model:                            OLS   Adj. R-squared:                  0.744\n",
      "Method:                 Least Squares   F-statistic:                     6.518\n",
      "Date:                Tue, 03 Sep 2019   Prob (F-statistic):            0.00473\n",
      "Time:                        20:33:34   Log-Likelihood:               -0.43477\n",
      "No. Observations:                  20   AIC:                             22.87\n",
      "Df Residuals:                       9   BIC:                             33.82\n",
      "Df Model:                          10                                         \n",
      "Covariance Type:            nonrobust                                         \n",
      "==============================================================================\n",
      "                 coef    std err          t      P>|t|      [0.025      0.975]\n",
      "------------------------------------------------------------------------------\n",
      "Intercept     -0.3469      0.971     -0.357      0.729      -2.544       1.850\n",
      "A              3.4404      1.213      2.835      0.020       0.695       6.185\n",
      "T             -0.0147      0.006     -2.435      0.038      -0.028      -0.001\n",
      "S              0.1267      0.226      0.560      0.589      -0.385       0.639\n",
      "C              0.0746      0.041      1.825      0.101      -0.018       0.167\n",
      "P              1.1913      0.677      1.759      0.112      -0.341       2.723\n",
      "E              0.6372      0.367      1.735      0.117      -0.194       1.468\n",
      "AS            -0.8519      0.277     -3.077      0.013      -1.478      -0.226\n",
      "AC            -0.0588      0.078     -0.751      0.472      -0.236       0.118\n",
      "AP             0.5972      3.313      0.180      0.861      -6.898       8.092\n",
      "AE             0.0675      0.483      0.140      0.892      -1.025       1.160\n",
      "==============================================================================\n",
      "Omnibus:                        0.629   Durbin-Watson:                   2.691\n",
      "Prob(Omnibus):                  0.730   Jarque-Bera (JB):                0.586\n",
      "Skew:                           0.357   Prob(JB):                        0.746\n",
      "Kurtosis:                       2.562   Cond. No.                     1.70e+03\n",
      "==============================================================================\n",
      "\n",
      "Warnings:\n",
      "[1] Standard Errors assume that the covariance matrix of the errors is correctly specified.\n",
      "[2] The condition number is large, 1.7e+03. This might indicate that there are\n",
      "strong multicollinearity or other numerical problems.\n",
      "Variance: 0.13589230416186726\n"
     ]
    }
   ],
   "source": [
    "cFit = smf.ols('y ~ A + T + S + C + P + E + AS + AC + AP + AE', cloud).fit()\n",
    "print(cFit.summary())\n",
    "print(f'Variance: {cFit.scale}')"
   ]
  },
  {
   "cell_type": "markdown",
   "metadata": {},
   "source": [
    "$\\hat{y} = +3.4404A -0.014T +0.1267S +0.0745C +1.1913P +0.6372E -0.851AS -0.058AC +0.5972AP +0.0675AE$"
   ]
  },
  {
   "cell_type": "markdown",
   "metadata": {},
   "source": [
    "#### b)"
   ]
  },
  {
   "cell_type": "code",
   "execution_count": 35,
   "metadata": {},
   "outputs": [],
   "source": [
    "cloud['normResiduals'] = cFit.get_influence().resid_studentized_internal\n",
    "cols = ['A', 'T', 'S', 'C', 'P', 'E', 'AS', 'AC', 'AP', 'AE']\n",
    "cloud['yFit'] = cFit.predict(cloud[cols])\n",
    "cloud['residuals'] = cloud.y - cloud.yFit"
   ]
  },
  {
   "cell_type": "code",
   "execution_count": 36,
   "metadata": {},
   "outputs": [
    {
     "data": {
      "image/png": "[encoded data removed]",
      "text/plain": [
       "<Figure size 432x288 with 1 Axes>"
      ]
     },
     "execution_count": 36,
     "metadata": {},
     "output_type": "execute_result"
    },
    {
     "data": {
      "image/png": "[encoded data removed]",
      "text/plain": [
       "<Figure size 432x288 with 1 Axes>"
      ]
     },
     "metadata": {},
     "output_type": "display_data"
    }
   ],
   "source": [
    "sm.qqplot(cFit.get_influence().resid_studentized_internal, line='45')"
   ]
  },
  {
   "cell_type": "markdown",
   "metadata": {},
   "source": [
    "The plot is relatively straight, indicating that it is likely that the errors are normally distributed."
   ]
  },
  {
   "cell_type": "code",
   "execution_count": 37,
   "metadata": {},
   "outputs": [
    {
     "data": {
      "application/vnd.vegalite.v3+json": {
       "$schema": "https://vega.github.io/schema/vega-lite/v3.2.1.json",
       "config": {
        "mark": {
         "tooltip": null
        },
        "view": {
         "height": 300,
         "width": 400
        }
       },
       "data": {
        "name": "data-59978251fcfd0fa4fcbe2c3fa4afbabe"
       },
       "datasets": {
        "data-59978251fcfd0fa4fcbe2c3fa4afbabe": [
         {
          "A": 0,
          "AC": 0,
          "AE": 0,
          "AP": 0,
          "AS": 0,
          "C": 13.4,
          "E": 2,
          "P": 0.27399999999999997,
          "S": 1.75,
          "T": 0,
          "normResiduals": 0.553033482097247,
          "residuals": 0.13469495265411835,
          "y": 2.61,
          "yFit": 2.4753050473458815
         },
         {
          "A": 1,
          "AC": 3.9,
          "AE": 2,
          "AP": 0.198,
          "AS": 4.1,
          "C": 3.9,
          "E": 2,
          "P": 0.198,
          "S": 4.1,
          "T": 3,
          "normResiduals": -0.4337483118513481,
          "residuals": -0.0915181575018178,
          "y": 1.81,
          "yFit": 1.9015181575018179
         },
         {
          "A": 0,
          "AC": 0,
          "AE": 0,
          "AP": 0,
          "AS": 0,
          "C": 5.3,
          "E": 1,
          "P": 0.526,
          "S": 2.35,
          "T": 4,
          "normResiduals": 0.9572206721234103,
          "residuals": 0.22851487908324697,
          "y": 1.78,
          "yFit": 1.551485120916753
         },
         {
          "A": 1,
          "AC": 7.1,
          "AE": 1,
          "AP": 0.25,
          "AS": 4.25,
          "C": 7.1,
          "E": 1,
          "P": 0.25,
          "S": 4.25,
          "T": 6,
          "normResiduals": -1.5341454621885173,
          "residuals": -0.3574709083391344,
          "y": 0.83,
          "yFit": 1.1874709083391344
         },
         {
          "A": 0,
          "AC": 0,
          "AE": 0,
          "AP": 0,
          "AS": 0,
          "C": 6.9,
          "E": 2,
          "P": 0.018000000000000002,
          "S": 1.6,
          "T": 9,
          "normResiduals": -0.9657428379174812,
          "residuals": -0.2544424311127904,
          "y": 1.28,
          "yFit": 1.5344424311127904
         },
         {
          "A": 0,
          "AC": 0,
          "AE": 0,
          "AP": 0,
          "AS": 0,
          "C": 4.9,
          "E": 1,
          "P": 0.19399999999999998,
          "S": 3.35,
          "T": 25,
          "normResiduals": 1.9220188516635937,
          "residuals": 0.5652163718817542,
          "y": 1.51,
          "yFit": 0.9447836281182458
         },
         {
          "A": 0,
          "AC": 0,
          "AE": 0,
          "AP": 0,
          "AS": 0,
          "C": 12.1,
          "E": 1,
          "P": 0.7509999999999999,
          "S": 2.85,
          "T": 27,
          "normResiduals": -0.8478873531016733,
          "residuals": -0.21269473202632638,
          "y": 1.84,
          "yFit": 2.0526947320263265
         },
         {
          "A": 1,
          "AC": 5.2,
          "AE": 1,
          "AP": 0.084,
          "AS": 2.2,
          "C": 5.2,
          "E": 1,
          "P": 0.084,
          "S": 2.2,
          "T": 28,
          "normResiduals": -1.5293453288380192,
          "residuals": -0.4044619786190933,
          "y": 1.62,
          "yFit": 2.0244619786190934
         },
         {
          "A": 1,
          "AC": 4.1,
          "AE": 1,
          "AP": 0.23600000000000002,
          "AS": 4.4,
          "C": 4.1,
          "E": 1,
          "P": 0.23600000000000002,
          "S": 4.4,
          "T": 29,
          "normResiduals": 1.2198174876988914,
          "residuals": 0.3411274546789429,
          "y": 1.01,
          "yFit": 0.6688725453210571
         },
         {
          "A": 1,
          "AC": 2.8,
          "AE": 1,
          "AP": 0.214,
          "AS": 3.1,
          "C": 2.8,
          "E": 1,
          "P": 0.214,
          "S": 3.1,
          "T": 32,
          "normResiduals": -0.494368401634461,
          "residuals": -0.11773644087330726,
          "y": 1.39,
          "yFit": 1.5077364408733072
         },
         {
          "A": 0,
          "AC": 0,
          "AE": 0,
          "AP": 0,
          "AS": 0,
          "C": 6.8,
          "E": 1,
          "P": 0.7959999999999999,
          "S": 3.95,
          "T": 33,
          "normResiduals": -0.09369033925790926,
          "residuals": -0.022376338884787295,
          "y": 1.74,
          "yFit": 1.7623763388847873
         },
         {
          "A": 1,
          "AC": 3,
          "AE": 1,
          "AP": 0.124,
          "AS": 2.9,
          "C": 3,
          "E": 1,
          "P": 0.124,
          "S": 2.9,
          "T": 35,
          "normResiduals": 0.3808450245642146,
          "residuals": 0.11905041185641263,
          "y": 1.57,
          "yFit": 1.4509495881435874
         },
         {
          "A": 1,
          "AC": 7,
          "AE": 1,
          "AP": 0.14400000000000002,
          "AS": 2.05,
          "C": 7,
          "E": 1,
          "P": 0.14400000000000002,
          "S": 2.05,
          "T": 38,
          "normResiduals": 1.5590897263868482,
          "residuals": 0.3477378510632394,
          "y": 2.47,
          "yFit": 2.122262148936761
         },
         {
          "A": 0,
          "AC": 0,
          "AE": 0,
          "AP": 0,
          "AS": 0,
          "C": 11.3,
          "E": 1,
          "P": 0.39799999999999996,
          "S": 4,
          "T": 39,
          "normResiduals": -0.2542363965817483,
          "residuals": -0.05218590217327557,
          "y": 1.49,
          "yFit": 1.5421859021732756
         },
         {
          "A": 0,
          "AC": 0,
          "AE": 0,
          "AP": 0,
          "AS": 0,
          "C": 4.2,
          "E": 2,
          "P": 0.237,
          "S": 3.35,
          "T": 53,
          "normResiduals": 0.6482120292294515,
          "residuals": 0.1197474784587309,
          "y": 1.29,
          "yFit": 1.1702525215412691
         },
         {
          "A": 0,
          "AC": 0,
          "AE": 0,
          "AP": 0,
          "AS": 0,
          "C": 2.2,
          "E": 1,
          "P": 0.23,
          "S": 3.8,
          "T": 56,
          "normResiduals": -0.8142896363439597,
          "residuals": -0.24852774302059188,
          "y": 0.14,
          "yFit": 0.3885277430205919
         },
         {
          "A": 1,
          "AC": 6.5,
          "AE": 2,
          "AP": 0.142,
          "AS": 3.4,
          "C": 6.5,
          "E": 2,
          "P": 0.142,
          "S": 3.4,
          "T": 59,
          "normResiduals": 0.4337483118515554,
          "residuals": 0.09151815750186088,
          "y": 1.62,
          "yFit": 1.5284818424981392
         },
         {
          "A": 1,
          "AC": 3.1,
          "AE": 1,
          "AP": 0.073,
          "AS": 3.15,
          "C": 3.1,
          "E": 1,
          "P": 0.073,
          "S": 3.15,
          "T": 65,
          "normResiduals": 0.041006518412381544,
          "residuals": 0.010102530608042115,
          "y": 0.75,
          "yFit": 0.7398974693919579
         },
         {
          "A": 0,
          "AC": 0,
          "AE": 0,
          "AP": 0,
          "AS": 0,
          "C": 2.6,
          "E": 1,
          "P": 0.136,
          "S": 3.15,
          "T": 68,
          "normResiduals": -1.0007896845311937,
          "residuals": -0.2579465348599218,
          "y": -0.21,
          "yFit": 0.04794653485992184
         },
         {
          "A": 1,
          "AC": 8.3,
          "AE": 1,
          "AP": 0.12300000000000001,
          "AS": 4.01,
          "C": 8.3,
          "E": 1,
          "P": 0.12300000000000001,
          "S": 4.01,
          "T": 82,
          "normResiduals": 0.31356364061976155,
          "residuals": 0.06165107962502711,
          "y": 0.1,
          "yFit": 0.038348920374972895
         }
        ]
       },
       "encoding": {
        "x": {
         "field": "yFit",
         "type": "quantitative"
        },
        "y": {
         "field": "normResiduals",
         "type": "quantitative"
        }
       },
       "mark": "point",
       "title": "Normalised Residuals vs Fit Values"
      },
      "image/png": "[encoded data removed]",
      "text/plain": [
       "<VegaLite 3 object>\n",
       "\n",
       "If you see this message, it means the renderer has not been properly enabled\n",
       "for the frontend that you are using. For more information, see\n",
       "https://altair-viz.github.io/user_guide/troubleshooting.html\n"
      ]
     },
     "execution_count": 37,
     "metadata": {},
     "output_type": "execute_result"
    }
   ],
   "source": [
    "alt.Chart(cloud, title='Normalised Residuals vs Fit Values')\\\n",
    "    .mark_point()\\\n",
    "    .encode(x='yFit', y='normResiduals')"
   ]
  },
  {
   "cell_type": "markdown",
   "metadata": {},
   "source": [
    "Due to the low number of data points it is difficult to discern any particular kind of shape. It appears to be a rough horizontal band with a few extraneous points at around yFit approximately 0.95, 1.2 and 2"
   ]
  },
  {
   "cell_type": "code",
   "execution_count": 38,
   "metadata": {},
   "outputs": [
    {
     "data": {
      "application/vnd.vegalite.v3+json": {
       "$schema": "https://vega.github.io/schema/vega-lite/v3.2.1.json",
       "config": {
        "mark": {
         "tooltip": null
        },
        "view": {
         "height": 300,
         "width": 400
        }
       },
       "data": {
        "name": "data-59978251fcfd0fa4fcbe2c3fa4afbabe"
       },
       "datasets": {
        "data-59978251fcfd0fa4fcbe2c3fa4afbabe": [
         {
          "A": 0,
          "AC": 0,
          "AE": 0,
          "AP": 0,
          "AS": 0,
          "C": 13.4,
          "E": 2,
          "P": 0.27399999999999997,
          "S": 1.75,
          "T": 0,
          "normResiduals": 0.553033482097247,
          "residuals": 0.13469495265411835,
          "y": 2.61,
          "yFit": 2.4753050473458815
         },
         {
          "A": 1,
          "AC": 3.9,
          "AE": 2,
          "AP": 0.198,
          "AS": 4.1,
          "C": 3.9,
          "E": 2,
          "P": 0.198,
          "S": 4.1,
          "T": 3,
          "normResiduals": -0.4337483118513481,
          "residuals": -0.0915181575018178,
          "y": 1.81,
          "yFit": 1.9015181575018179
         },
         {
          "A": 0,
          "AC": 0,
          "AE": 0,
          "AP": 0,
          "AS": 0,
          "C": 5.3,
          "E": 1,
          "P": 0.526,
          "S": 2.35,
          "T": 4,
          "normResiduals": 0.9572206721234103,
          "residuals": 0.22851487908324697,
          "y": 1.78,
          "yFit": 1.551485120916753
         },
         {
          "A": 1,
          "AC": 7.1,
          "AE": 1,
          "AP": 0.25,
          "AS": 4.25,
          "C": 7.1,
          "E": 1,
          "P": 0.25,
          "S": 4.25,
          "T": 6,
          "normResiduals": -1.5341454621885173,
          "residuals": -0.3574709083391344,
          "y": 0.83,
          "yFit": 1.1874709083391344
         },
         {
          "A": 0,
          "AC": 0,
          "AE": 0,
          "AP": 0,
          "AS": 0,
          "C": 6.9,
          "E": 2,
          "P": 0.018000000000000002,
          "S": 1.6,
          "T": 9,
          "normResiduals": -0.9657428379174812,
          "residuals": -0.2544424311127904,
          "y": 1.28,
          "yFit": 1.5344424311127904
         },
         {
          "A": 0,
          "AC": 0,
          "AE": 0,
          "AP": 0,
          "AS": 0,
          "C": 4.9,
          "E": 1,
          "P": 0.19399999999999998,
          "S": 3.35,
          "T": 25,
          "normResiduals": 1.9220188516635937,
          "residuals": 0.5652163718817542,
          "y": 1.51,
          "yFit": 0.9447836281182458
         },
         {
          "A": 0,
          "AC": 0,
          "AE": 0,
          "AP": 0,
          "AS": 0,
          "C": 12.1,
          "E": 1,
          "P": 0.7509999999999999,
          "S": 2.85,
          "T": 27,
          "normResiduals": -0.8478873531016733,
          "residuals": -0.21269473202632638,
          "y": 1.84,
          "yFit": 2.0526947320263265
         },
         {
          "A": 1,
          "AC": 5.2,
          "AE": 1,
          "AP": 0.084,
          "AS": 2.2,
          "C": 5.2,
          "E": 1,
          "P": 0.084,
          "S": 2.2,
          "T": 28,
          "normResiduals": -1.5293453288380192,
          "residuals": -0.4044619786190933,
          "y": 1.62,
          "yFit": 2.0244619786190934
         },
         {
          "A": 1,
          "AC": 4.1,
          "AE": 1,
          "AP": 0.23600000000000002,
          "AS": 4.4,
          "C": 4.1,
          "E": 1,
          "P": 0.23600000000000002,
          "S": 4.4,
          "T": 29,
          "normResiduals": 1.2198174876988914,
          "residuals": 0.3411274546789429,
          "y": 1.01,
          "yFit": 0.6688725453210571
         },
         {
          "A": 1,
          "AC": 2.8,
          "AE": 1,
          "AP": 0.214,
          "AS": 3.1,
          "C": 2.8,
          "E": 1,
          "P": 0.214,
          "S": 3.1,
          "T": 32,
          "normResiduals": -0.494368401634461,
          "residuals": -0.11773644087330726,
          "y": 1.39,
          "yFit": 1.5077364408733072
         },
         {
          "A": 0,
          "AC": 0,
          "AE": 0,
          "AP": 0,
          "AS": 0,
          "C": 6.8,
          "E": 1,
          "P": 0.7959999999999999,
          "S": 3.95,
          "T": 33,
          "normResiduals": -0.09369033925790926,
          "residuals": -0.022376338884787295,
          "y": 1.74,
          "yFit": 1.7623763388847873
         },
         {
          "A": 1,
          "AC": 3,
          "AE": 1,
          "AP": 0.124,
          "AS": 2.9,
          "C": 3,
          "E": 1,
          "P": 0.124,
          "S": 2.9,
          "T": 35,
          "normResiduals": 0.3808450245642146,
          "residuals": 0.11905041185641263,
          "y": 1.57,
          "yFit": 1.4509495881435874
         },
         {
          "A": 1,
          "AC": 7,
          "AE": 1,
          "AP": 0.14400000000000002,
          "AS": 2.05,
          "C": 7,
          "E": 1,
          "P": 0.14400000000000002,
          "S": 2.05,
          "T": 38,
          "normResiduals": 1.5590897263868482,
          "residuals": 0.3477378510632394,
          "y": 2.47,
          "yFit": 2.122262148936761
         },
         {
          "A": 0,
          "AC": 0,
          "AE": 0,
          "AP": 0,
          "AS": 0,
          "C": 11.3,
          "E": 1,
          "P": 0.39799999999999996,
          "S": 4,
          "T": 39,
          "normResiduals": -0.2542363965817483,
          "residuals": -0.05218590217327557,
          "y": 1.49,
          "yFit": 1.5421859021732756
         },
         {
          "A": 0,
          "AC": 0,
          "AE": 0,
          "AP": 0,
          "AS": 0,
          "C": 4.2,
          "E": 2,
          "P": 0.237,
          "S": 3.35,
          "T": 53,
          "normResiduals": 0.6482120292294515,
          "residuals": 0.1197474784587309,
          "y": 1.29,
          "yFit": 1.1702525215412691
         },
         {
          "A": 0,
          "AC": 0,
          "AE": 0,
          "AP": 0,
          "AS": 0,
          "C": 2.2,
          "E": 1,
          "P": 0.23,
          "S": 3.8,
          "T": 56,
          "normResiduals": -0.8142896363439597,
          "residuals": -0.24852774302059188,
          "y": 0.14,
          "yFit": 0.3885277430205919
         },
         {
          "A": 1,
          "AC": 6.5,
          "AE": 2,
          "AP": 0.142,
          "AS": 3.4,
          "C": 6.5,
          "E": 2,
          "P": 0.142,
          "S": 3.4,
          "T": 59,
          "normResiduals": 0.4337483118515554,
          "residuals": 0.09151815750186088,
          "y": 1.62,
          "yFit": 1.5284818424981392
         },
         {
          "A": 1,
          "AC": 3.1,
          "AE": 1,
          "AP": 0.073,
          "AS": 3.15,
          "C": 3.1,
          "E": 1,
          "P": 0.073,
          "S": 3.15,
          "T": 65,
          "normResiduals": 0.041006518412381544,
          "residuals": 0.010102530608042115,
          "y": 0.75,
          "yFit": 0.7398974693919579
         },
         {
          "A": 0,
          "AC": 0,
          "AE": 0,
          "AP": 0,
          "AS": 0,
          "C": 2.6,
          "E": 1,
          "P": 0.136,
          "S": 3.15,
          "T": 68,
          "normResiduals": -1.0007896845311937,
          "residuals": -0.2579465348599218,
          "y": -0.21,
          "yFit": 0.04794653485992184
         },
         {
          "A": 1,
          "AC": 8.3,
          "AE": 1,
          "AP": 0.12300000000000001,
          "AS": 4.01,
          "C": 8.3,
          "E": 1,
          "P": 0.12300000000000001,
          "S": 4.01,
          "T": 82,
          "normResiduals": 0.31356364061976155,
          "residuals": 0.06165107962502711,
          "y": 0.1,
          "yFit": 0.038348920374972895
         }
        ]
       },
       "encoding": {
        "x": {
         "field": "T",
         "type": "quantitative"
        },
        "y": {
         "field": "normResiduals",
         "type": "quantitative"
        }
       },
       "mark": "point",
       "title": "Normalised Residuals vs T"
      },
      "image/png": "[encoded data removed]",
      "text/plain": [
       "<VegaLite 3 object>\n",
       "\n",
       "If you see this message, it means the renderer has not been properly enabled\n",
       "for the frontend that you are using. For more information, see\n",
       "https://altair-viz.github.io/user_guide/troubleshooting.html\n"
      ]
     },
     "execution_count": 38,
     "metadata": {},
     "output_type": "execute_result"
    }
   ],
   "source": [
    "alt.Chart(cloud, title='Normalised Residuals vs T')\\\n",
    "    .mark_point()\\\n",
    "    .encode(x='T', y='normResiduals')"
   ]
  },
  {
   "cell_type": "markdown",
   "metadata": {},
   "source": [
    "No pattern."
   ]
  },
  {
   "cell_type": "code",
   "execution_count": 39,
   "metadata": {},
   "outputs": [
    {
     "data": {
      "application/vnd.vegalite.v3+json": {
       "$schema": "https://vega.github.io/schema/vega-lite/v3.2.1.json",
       "config": {
        "mark": {
         "tooltip": null
        },
        "view": {
         "height": 300,
         "width": 400
        }
       },
       "data": {
        "name": "data-59978251fcfd0fa4fcbe2c3fa4afbabe"
       },
       "datasets": {
        "data-59978251fcfd0fa4fcbe2c3fa4afbabe": [
         {
          "A": 0,
          "AC": 0,
          "AE": 0,
          "AP": 0,
          "AS": 0,
          "C": 13.4,
          "E": 2,
          "P": 0.27399999999999997,
          "S": 1.75,
          "T": 0,
          "normResiduals": 0.553033482097247,
          "residuals": 0.13469495265411835,
          "y": 2.61,
          "yFit": 2.4753050473458815
         },
         {
          "A": 1,
          "AC": 3.9,
          "AE": 2,
          "AP": 0.198,
          "AS": 4.1,
          "C": 3.9,
          "E": 2,
          "P": 0.198,
          "S": 4.1,
          "T": 3,
          "normResiduals": -0.4337483118513481,
          "residuals": -0.0915181575018178,
          "y": 1.81,
          "yFit": 1.9015181575018179
         },
         {
          "A": 0,
          "AC": 0,
          "AE": 0,
          "AP": 0,
          "AS": 0,
          "C": 5.3,
          "E": 1,
          "P": 0.526,
          "S": 2.35,
          "T": 4,
          "normResiduals": 0.9572206721234103,
          "residuals": 0.22851487908324697,
          "y": 1.78,
          "yFit": 1.551485120916753
         },
         {
          "A": 1,
          "AC": 7.1,
          "AE": 1,
          "AP": 0.25,
          "AS": 4.25,
          "C": 7.1,
          "E": 1,
          "P": 0.25,
          "S": 4.25,
          "T": 6,
          "normResiduals": -1.5341454621885173,
          "residuals": -0.3574709083391344,
          "y": 0.83,
          "yFit": 1.1874709083391344
         },
         {
          "A": 0,
          "AC": 0,
          "AE": 0,
          "AP": 0,
          "AS": 0,
          "C": 6.9,
          "E": 2,
          "P": 0.018000000000000002,
          "S": 1.6,
          "T": 9,
          "normResiduals": -0.9657428379174812,
          "residuals": -0.2544424311127904,
          "y": 1.28,
          "yFit": 1.5344424311127904
         },
         {
          "A": 0,
          "AC": 0,
          "AE": 0,
          "AP": 0,
          "AS": 0,
          "C": 4.9,
          "E": 1,
          "P": 0.19399999999999998,
          "S": 3.35,
          "T": 25,
          "normResiduals": 1.9220188516635937,
          "residuals": 0.5652163718817542,
          "y": 1.51,
          "yFit": 0.9447836281182458
         },
         {
          "A": 0,
          "AC": 0,
          "AE": 0,
          "AP": 0,
          "AS": 0,
          "C": 12.1,
          "E": 1,
          "P": 0.7509999999999999,
          "S": 2.85,
          "T": 27,
          "normResiduals": -0.8478873531016733,
          "residuals": -0.21269473202632638,
          "y": 1.84,
          "yFit": 2.0526947320263265
         },
         {
          "A": 1,
          "AC": 5.2,
          "AE": 1,
          "AP": 0.084,
          "AS": 2.2,
          "C": 5.2,
          "E": 1,
          "P": 0.084,
          "S": 2.2,
          "T": 28,
          "normResiduals": -1.5293453288380192,
          "residuals": -0.4044619786190933,
          "y": 1.62,
          "yFit": 2.0244619786190934
         },
         {
          "A": 1,
          "AC": 4.1,
          "AE": 1,
          "AP": 0.23600000000000002,
          "AS": 4.4,
          "C": 4.1,
          "E": 1,
          "P": 0.23600000000000002,
          "S": 4.4,
          "T": 29,
          "normResiduals": 1.2198174876988914,
          "residuals": 0.3411274546789429,
          "y": 1.01,
          "yFit": 0.6688725453210571
         },
         {
          "A": 1,
          "AC": 2.8,
          "AE": 1,
          "AP": 0.214,
          "AS": 3.1,
          "C": 2.8,
          "E": 1,
          "P": 0.214,
          "S": 3.1,
          "T": 32,
          "normResiduals": -0.494368401634461,
          "residuals": -0.11773644087330726,
          "y": 1.39,
          "yFit": 1.5077364408733072
         },
         {
          "A": 0,
          "AC": 0,
          "AE": 0,
          "AP": 0,
          "AS": 0,
          "C": 6.8,
          "E": 1,
          "P": 0.7959999999999999,
          "S": 3.95,
          "T": 33,
          "normResiduals": -0.09369033925790926,
          "residuals": -0.022376338884787295,
          "y": 1.74,
          "yFit": 1.7623763388847873
         },
         {
          "A": 1,
          "AC": 3,
          "AE": 1,
          "AP": 0.124,
          "AS": 2.9,
          "C": 3,
          "E": 1,
          "P": 0.124,
          "S": 2.9,
          "T": 35,
          "normResiduals": 0.3808450245642146,
          "residuals": 0.11905041185641263,
          "y": 1.57,
          "yFit": 1.4509495881435874
         },
         {
          "A": 1,
          "AC": 7,
          "AE": 1,
          "AP": 0.14400000000000002,
          "AS": 2.05,
          "C": 7,
          "E": 1,
          "P": 0.14400000000000002,
          "S": 2.05,
          "T": 38,
          "normResiduals": 1.5590897263868482,
          "residuals": 0.3477378510632394,
          "y": 2.47,
          "yFit": 2.122262148936761
         },
         {
          "A": 0,
          "AC": 0,
          "AE": 0,
          "AP": 0,
          "AS": 0,
          "C": 11.3,
          "E": 1,
          "P": 0.39799999999999996,
          "S": 4,
          "T": 39,
          "normResiduals": -0.2542363965817483,
          "residuals": -0.05218590217327557,
          "y": 1.49,
          "yFit": 1.5421859021732756
         },
         {
          "A": 0,
          "AC": 0,
          "AE": 0,
          "AP": 0,
          "AS": 0,
          "C": 4.2,
          "E": 2,
          "P": 0.237,
          "S": 3.35,
          "T": 53,
          "normResiduals": 0.6482120292294515,
          "residuals": 0.1197474784587309,
          "y": 1.29,
          "yFit": 1.1702525215412691
         },
         {
          "A": 0,
          "AC": 0,
          "AE": 0,
          "AP": 0,
          "AS": 0,
          "C": 2.2,
          "E": 1,
          "P": 0.23,
          "S": 3.8,
          "T": 56,
          "normResiduals": -0.8142896363439597,
          "residuals": -0.24852774302059188,
          "y": 0.14,
          "yFit": 0.3885277430205919
         },
         {
          "A": 1,
          "AC": 6.5,
          "AE": 2,
          "AP": 0.142,
          "AS": 3.4,
          "C": 6.5,
          "E": 2,
          "P": 0.142,
          "S": 3.4,
          "T": 59,
          "normResiduals": 0.4337483118515554,
          "residuals": 0.09151815750186088,
          "y": 1.62,
          "yFit": 1.5284818424981392
         },
         {
          "A": 1,
          "AC": 3.1,
          "AE": 1,
          "AP": 0.073,
          "AS": 3.15,
          "C": 3.1,
          "E": 1,
          "P": 0.073,
          "S": 3.15,
          "T": 65,
          "normResiduals": 0.041006518412381544,
          "residuals": 0.010102530608042115,
          "y": 0.75,
          "yFit": 0.7398974693919579
         },
         {
          "A": 0,
          "AC": 0,
          "AE": 0,
          "AP": 0,
          "AS": 0,
          "C": 2.6,
          "E": 1,
          "P": 0.136,
          "S": 3.15,
          "T": 68,
          "normResiduals": -1.0007896845311937,
          "residuals": -0.2579465348599218,
          "y": -0.21,
          "yFit": 0.04794653485992184
         },
         {
          "A": 1,
          "AC": 8.3,
          "AE": 1,
          "AP": 0.12300000000000001,
          "AS": 4.01,
          "C": 8.3,
          "E": 1,
          "P": 0.12300000000000001,
          "S": 4.01,
          "T": 82,
          "normResiduals": 0.31356364061976155,
          "residuals": 0.06165107962502711,
          "y": 0.1,
          "yFit": 0.038348920374972895
         }
        ]
       },
       "encoding": {
        "x": {
         "field": "S",
         "type": "quantitative"
        },
        "y": {
         "field": "normResiduals",
         "type": "quantitative"
        }
       },
       "mark": "point",
       "title": "Normalised Residuals vs S"
      },
      "image/png": "[encoded data removed]",
      "text/plain": [
       "<VegaLite 3 object>\n",
       "\n",
       "If you see this message, it means the renderer has not been properly enabled\n",
       "for the frontend that you are using. For more information, see\n",
       "https://altair-viz.github.io/user_guide/troubleshooting.html\n"
      ]
     },
     "execution_count": 39,
     "metadata": {},
     "output_type": "execute_result"
    }
   ],
   "source": [
    "alt.Chart(cloud, title='Normalised Residuals vs S')\\\n",
    "    .mark_point()\\\n",
    "    .encode(x='S', y='normResiduals')"
   ]
  },
  {
   "cell_type": "markdown",
   "metadata": {},
   "source": [
    "No pattern"
   ]
  },
  {
   "cell_type": "markdown",
   "metadata": {},
   "source": [
    "Based on the above, there are 3 potentially suspect days that could be checked, they are output below:"
   ]
  },
  {
   "cell_type": "code",
   "execution_count": 40,
   "metadata": {},
   "outputs": [
    {
     "data": {
      "text/html": [
       "<div>\n",
       "<style scoped>\n",
       "    .dataframe tbody tr th:only-of-type {\n",
       "        vertical-align: middle;\n",
       "    }\n",
       "\n",
       "    .dataframe tbody tr th {\n",
       "        vertical-align: top;\n",
       "    }\n",
       "\n",
       "    .dataframe thead th {\n",
       "        text-align: right;\n",
       "    }\n",
       "</style>\n",
       "<table border=\"1\" class=\"dataframe\">\n",
       "  <thead>\n",
       "    <tr style=\"text-align: right;\">\n",
       "      <th></th>\n",
       "      <th>A</th>\n",
       "      <th>T</th>\n",
       "      <th>S</th>\n",
       "      <th>C</th>\n",
       "      <th>P</th>\n",
       "      <th>E</th>\n",
       "      <th>y</th>\n",
       "      <th>AS</th>\n",
       "      <th>AC</th>\n",
       "      <th>AP</th>\n",
       "      <th>AE</th>\n",
       "      <th>normResiduals</th>\n",
       "      <th>yFit</th>\n",
       "      <th>residuals</th>\n",
       "    </tr>\n",
       "  </thead>\n",
       "  <tbody>\n",
       "    <tr>\n",
       "      <th>1</th>\n",
       "      <td>1</td>\n",
       "      <td>3</td>\n",
       "      <td>4.10</td>\n",
       "      <td>3.9</td>\n",
       "      <td>0.198</td>\n",
       "      <td>2</td>\n",
       "      <td>1.81</td>\n",
       "      <td>4.10</td>\n",
       "      <td>3.9</td>\n",
       "      <td>0.198</td>\n",
       "      <td>2</td>\n",
       "      <td>-0.433748</td>\n",
       "      <td>1.901518</td>\n",
       "      <td>-0.091518</td>\n",
       "    </tr>\n",
       "    <tr>\n",
       "      <th>3</th>\n",
       "      <td>1</td>\n",
       "      <td>6</td>\n",
       "      <td>4.25</td>\n",
       "      <td>7.1</td>\n",
       "      <td>0.250</td>\n",
       "      <td>1</td>\n",
       "      <td>0.83</td>\n",
       "      <td>4.25</td>\n",
       "      <td>7.1</td>\n",
       "      <td>0.250</td>\n",
       "      <td>1</td>\n",
       "      <td>-1.534145</td>\n",
       "      <td>1.187471</td>\n",
       "      <td>-0.357471</td>\n",
       "    </tr>\n",
       "    <tr>\n",
       "      <th>5</th>\n",
       "      <td>0</td>\n",
       "      <td>25</td>\n",
       "      <td>3.35</td>\n",
       "      <td>4.9</td>\n",
       "      <td>0.194</td>\n",
       "      <td>1</td>\n",
       "      <td>1.51</td>\n",
       "      <td>0.00</td>\n",
       "      <td>0.0</td>\n",
       "      <td>0.000</td>\n",
       "      <td>0</td>\n",
       "      <td>1.922019</td>\n",
       "      <td>0.944784</td>\n",
       "      <td>0.565216</td>\n",
       "    </tr>\n",
       "  </tbody>\n",
       "</table>\n",
       "</div>"
      ],
      "text/plain": [
       "   A   T     S    C      P  E     y    AS   AC     AP  AE  normResiduals  \\\n",
       "1  1   3  4.10  3.9  0.198  2  1.81  4.10  3.9  0.198   2      -0.433748   \n",
       "3  1   6  4.25  7.1  0.250  1  0.83  4.25  7.1  0.250   1      -1.534145   \n",
       "5  0  25  3.35  4.9  0.194  1  1.51  0.00  0.0  0.000   0       1.922019   \n",
       "\n",
       "       yFit  residuals  \n",
       "1  1.901518  -0.091518  \n",
       "3  1.187471  -0.357471  \n",
       "5  0.944784   0.565216  "
      ]
     },
     "execution_count": 40,
     "metadata": {},
     "output_type": "execute_result"
    }
   ],
   "source": [
    "cloud[cloud.yFit.between(0.8, 0.95) | \n",
    "      cloud.yFit.between(1.18 , 1.2) | \n",
    "      cloud.yFit.between(1.9, 2)]"
   ]
  },
  {
   "cell_type": "markdown",
   "metadata": {},
   "source": [
    "#### c)"
   ]
  },
  {
   "cell_type": "code",
   "execution_count": 41,
   "metadata": {},
   "outputs": [],
   "source": [
    "infVals = cFit.get_influence()\\\n",
    "                .summary_frame()[['hat_diag', 'dffits', 'cooks_d']]\n",
    "infVals['Observation'] = [x for x in range(1,21)]"
   ]
  },
  {
   "cell_type": "code",
   "execution_count": 42,
   "metadata": {},
   "outputs": [
    {
     "data": {
      "application/vnd.vegalite.v3+json": {
       "$schema": "https://vega.github.io/schema/vega-lite/v3.2.1.json",
       "config": {
        "mark": {
         "tooltip": null
        },
        "view": {
         "height": 300,
         "width": 400
        }
       },
       "data": {
        "name": "data-f93b3edc0ab5e6d25f77fe08c8da1488"
       },
       "datasets": {
        "data-f93b3edc0ab5e6d25f77fe08c8da1488": [
         {
          "Observation": 1,
          "cooks_d": 0.03589079957837639,
          "dffits": 0.6027250469001778,
          "hat_diag": 0.5634792119537435
         },
         {
          "Observation": 2,
          "cooks_d": 0.03510479536384931,
          "dffits": -0.5920940617424675,
          "hat_diag": 0.6723998600972076
         },
         {
          "Observation": 3,
          "cooks_d": 0.11532191706768315,
          "dffits": 1.12044721386673,
          "hat_diag": 0.5806178269620325
         },
         {
          "Observation": 4,
          "cooks_d": 0.3215700070651617,
          "dffits": -2.0634119499012873,
          "hat_diag": 0.6004662554913469
         },
         {
          "Observation": 5,
          "cooks_d": 0.08119789130788144,
          "dffits": -0.9411276008863652,
          "hat_diag": 0.48918785042016627
         },
         {
          "Observation": 6,
          "cooks_d": 0.1918872655403584,
          "dffits": 1.7839685495794586,
          "hat_diag": 0.36361590420780276
         },
         {
          "Observation": 7,
          "cooks_d": 0.07578142498839471,
          "dffits": -0.8973854944069843,
          "hat_diag": 0.5369346451557069
         },
         {
          "Observation": 8,
          "cooks_d": 0.20048613535712864,
          "dffits": -1.627460430340823,
          "hat_diag": 0.48530562756109463
         },
         {
          "Observation": 9,
          "cooks_d": 0.0997748934754528,
          "dffits": 1.0811174406345139,
          "hat_diag": 0.4244954327979641
         },
         {
          "Observation": 10,
          "cooks_d": 0.031015082942448098,
          "dffits": -0.5583221479688623,
          "hat_diag": 0.5826258620345852
         },
         {
          "Observation": 11,
          "cooks_d": 0.0011031039365646247,
          "dffits": -0.10390589557980968,
          "hat_diag": 0.5802472251576681
         },
         {
          "Observation": 12,
          "cooks_d": 0.00515149979436304,
          "dffits": 0.22626373378951328,
          "hat_diag": 0.2809313258434455
         },
         {
          "Observation": 13,
          "cooks_d": 0.38266824443246217,
          "dffits": 2.264096896266456,
          "hat_diag": 0.6339277151867113
         },
         {
          "Observation": 14,
          "cooks_d": 0.013075621786394941,
          "dffits": -0.35885284205121887,
          "hat_diag": 0.6899468983319665
         },
         {
          "Observation": 15,
          "cooks_d": 0.11390491987549302,
          "dffits": 1.0808699918046392,
          "hat_diag": 0.7488670377528651
         },
         {
          "Observation": 16,
          "cooks_d": 0.02765739930183872,
          "dffits": -0.5403110709254327,
          "hat_diag": 0.314516391525644
         },
         {
          "Observation": 17,
          "cooks_d": 0.03510479536388361,
          "dffits": 0.5920940617427568,
          "hat_diag": 0.6723998600972123
         },
         {
          "Observation": 18,
          "cooks_d": 0.00018939107328593157,
          "dffits": 0.04303684330743067,
          "hat_diag": 0.5533578641390997
         },
         {
          "Observation": 19,
          "cooks_d": 0.09520489898112364,
          "dffits": -1.0234553049997923,
          "hat_diag": 0.5111463151165401
         },
         {
          "Observation": 20,
          "cooks_d": 0.02248288219204098,
          "dffits": 0.47144538856895796,
          "hat_diag": 0.7155308901671935
         }
        ]
       },
       "encoding": {
        "x": {
         "field": "Observation",
         "type": "quantitative"
        },
        "y": {
         "field": "hat_diag",
         "type": "quantitative"
        }
       },
       "mark": {
        "size": 1,
        "type": "bar"
       },
       "title": "Hat Diagonals"
      },
      "image/png": "[encoded data removed]",
      "text/plain": [
       "<VegaLite 3 object>\n",
       "\n",
       "If you see this message, it means the renderer has not been properly enabled\n",
       "for the frontend that you are using. For more information, see\n",
       "https://altair-viz.github.io/user_guide/troubleshooting.html\n"
      ]
     },
     "execution_count": 42,
     "metadata": {},
     "output_type": "execute_result"
    }
   ],
   "source": [
    "alt.Chart(infVals, title='Hat Diagonals')\\\n",
    "    .mark_bar(size = 1)\\\n",
    "    .encode(x='Observation', y='hat_diag')"
   ]
  },
  {
   "cell_type": "code",
   "execution_count": 43,
   "metadata": {},
   "outputs": [
    {
     "data": {
      "application/vnd.vegalite.v3+json": {
       "$schema": "https://vega.github.io/schema/vega-lite/v3.2.1.json",
       "config": {
        "mark": {
         "tooltip": null
        },
        "view": {
         "height": 300,
         "width": 400
        }
       },
       "data": {
        "name": "data-f93b3edc0ab5e6d25f77fe08c8da1488"
       },
       "datasets": {
        "data-f93b3edc0ab5e6d25f77fe08c8da1488": [
         {
          "Observation": 1,
          "cooks_d": 0.03589079957837639,
          "dffits": 0.6027250469001778,
          "hat_diag": 0.5634792119537435
         },
         {
          "Observation": 2,
          "cooks_d": 0.03510479536384931,
          "dffits": -0.5920940617424675,
          "hat_diag": 0.6723998600972076
         },
         {
          "Observation": 3,
          "cooks_d": 0.11532191706768315,
          "dffits": 1.12044721386673,
          "hat_diag": 0.5806178269620325
         },
         {
          "Observation": 4,
          "cooks_d": 0.3215700070651617,
          "dffits": -2.0634119499012873,
          "hat_diag": 0.6004662554913469
         },
         {
          "Observation": 5,
          "cooks_d": 0.08119789130788144,
          "dffits": -0.9411276008863652,
          "hat_diag": 0.48918785042016627
         },
         {
          "Observation": 6,
          "cooks_d": 0.1918872655403584,
          "dffits": 1.7839685495794586,
          "hat_diag": 0.36361590420780276
         },
         {
          "Observation": 7,
          "cooks_d": 0.07578142498839471,
          "dffits": -0.8973854944069843,
          "hat_diag": 0.5369346451557069
         },
         {
          "Observation": 8,
          "cooks_d": 0.20048613535712864,
          "dffits": -1.627460430340823,
          "hat_diag": 0.48530562756109463
         },
         {
          "Observation": 9,
          "cooks_d": 0.0997748934754528,
          "dffits": 1.0811174406345139,
          "hat_diag": 0.4244954327979641
         },
         {
          "Observation": 10,
          "cooks_d": 0.031015082942448098,
          "dffits": -0.5583221479688623,
          "hat_diag": 0.5826258620345852
         },
         {
          "Observation": 11,
          "cooks_d": 0.0011031039365646247,
          "dffits": -0.10390589557980968,
          "hat_diag": 0.5802472251576681
         },
         {
          "Observation": 12,
          "cooks_d": 0.00515149979436304,
          "dffits": 0.22626373378951328,
          "hat_diag": 0.2809313258434455
         },
         {
          "Observation": 13,
          "cooks_d": 0.38266824443246217,
          "dffits": 2.264096896266456,
          "hat_diag": 0.6339277151867113
         },
         {
          "Observation": 14,
          "cooks_d": 0.013075621786394941,
          "dffits": -0.35885284205121887,
          "hat_diag": 0.6899468983319665
         },
         {
          "Observation": 15,
          "cooks_d": 0.11390491987549302,
          "dffits": 1.0808699918046392,
          "hat_diag": 0.7488670377528651
         },
         {
          "Observation": 16,
          "cooks_d": 0.02765739930183872,
          "dffits": -0.5403110709254327,
          "hat_diag": 0.314516391525644
         },
         {
          "Observation": 17,
          "cooks_d": 0.03510479536388361,
          "dffits": 0.5920940617427568,
          "hat_diag": 0.6723998600972123
         },
         {
          "Observation": 18,
          "cooks_d": 0.00018939107328593157,
          "dffits": 0.04303684330743067,
          "hat_diag": 0.5533578641390997
         },
         {
          "Observation": 19,
          "cooks_d": 0.09520489898112364,
          "dffits": -1.0234553049997923,
          "hat_diag": 0.5111463151165401
         },
         {
          "Observation": 20,
          "cooks_d": 0.02248288219204098,
          "dffits": 0.47144538856895796,
          "hat_diag": 0.7155308901671935
         }
        ]
       },
       "encoding": {
        "x": {
         "field": "Observation",
         "type": "quantitative"
        },
        "y": {
         "field": "cooks_d",
         "type": "quantitative"
        }
       },
       "mark": {
        "size": 1,
        "type": "bar"
       },
       "title": "Cook's Distance"
      },
      "image/png": "[encoded data removed]",
      "text/plain": [
       "<VegaLite 3 object>\n",
       "\n",
       "If you see this message, it means the renderer has not been properly enabled\n",
       "for the frontend that you are using. For more information, see\n",
       "https://altair-viz.github.io/user_guide/troubleshooting.html\n"
      ]
     },
     "execution_count": 43,
     "metadata": {},
     "output_type": "execute_result"
    }
   ],
   "source": [
    "alt.Chart(infVals, title='Cook\\'s Distance')\\\n",
    "    .mark_bar(size = 1)\\\n",
    "    .encode(x='Observation', y='cooks_d')"
   ]
  },
  {
   "cell_type": "code",
   "execution_count": 44,
   "metadata": {},
   "outputs": [
    {
     "data": {
      "application/vnd.vegalite.v3+json": {
       "$schema": "https://vega.github.io/schema/vega-lite/v3.2.1.json",
       "config": {
        "mark": {
         "tooltip": null
        },
        "view": {
         "height": 300,
         "width": 400
        }
       },
       "data": {
        "name": "data-f93b3edc0ab5e6d25f77fe08c8da1488"
       },
       "datasets": {
        "data-f93b3edc0ab5e6d25f77fe08c8da1488": [
         {
          "Observation": 1,
          "cooks_d": 0.03589079957837639,
          "dffits": 0.6027250469001778,
          "hat_diag": 0.5634792119537435
         },
         {
          "Observation": 2,
          "cooks_d": 0.03510479536384931,
          "dffits": -0.5920940617424675,
          "hat_diag": 0.6723998600972076
         },
         {
          "Observation": 3,
          "cooks_d": 0.11532191706768315,
          "dffits": 1.12044721386673,
          "hat_diag": 0.5806178269620325
         },
         {
          "Observation": 4,
          "cooks_d": 0.3215700070651617,
          "dffits": -2.0634119499012873,
          "hat_diag": 0.6004662554913469
         },
         {
          "Observation": 5,
          "cooks_d": 0.08119789130788144,
          "dffits": -0.9411276008863652,
          "hat_diag": 0.48918785042016627
         },
         {
          "Observation": 6,
          "cooks_d": 0.1918872655403584,
          "dffits": 1.7839685495794586,
          "hat_diag": 0.36361590420780276
         },
         {
          "Observation": 7,
          "cooks_d": 0.07578142498839471,
          "dffits": -0.8973854944069843,
          "hat_diag": 0.5369346451557069
         },
         {
          "Observation": 8,
          "cooks_d": 0.20048613535712864,
          "dffits": -1.627460430340823,
          "hat_diag": 0.48530562756109463
         },
         {
          "Observation": 9,
          "cooks_d": 0.0997748934754528,
          "dffits": 1.0811174406345139,
          "hat_diag": 0.4244954327979641
         },
         {
          "Observation": 10,
          "cooks_d": 0.031015082942448098,
          "dffits": -0.5583221479688623,
          "hat_diag": 0.5826258620345852
         },
         {
          "Observation": 11,
          "cooks_d": 0.0011031039365646247,
          "dffits": -0.10390589557980968,
          "hat_diag": 0.5802472251576681
         },
         {
          "Observation": 12,
          "cooks_d": 0.00515149979436304,
          "dffits": 0.22626373378951328,
          "hat_diag": 0.2809313258434455
         },
         {
          "Observation": 13,
          "cooks_d": 0.38266824443246217,
          "dffits": 2.264096896266456,
          "hat_diag": 0.6339277151867113
         },
         {
          "Observation": 14,
          "cooks_d": 0.013075621786394941,
          "dffits": -0.35885284205121887,
          "hat_diag": 0.6899468983319665
         },
         {
          "Observation": 15,
          "cooks_d": 0.11390491987549302,
          "dffits": 1.0808699918046392,
          "hat_diag": 0.7488670377528651
         },
         {
          "Observation": 16,
          "cooks_d": 0.02765739930183872,
          "dffits": -0.5403110709254327,
          "hat_diag": 0.314516391525644
         },
         {
          "Observation": 17,
          "cooks_d": 0.03510479536388361,
          "dffits": 0.5920940617427568,
          "hat_diag": 0.6723998600972123
         },
         {
          "Observation": 18,
          "cooks_d": 0.00018939107328593157,
          "dffits": 0.04303684330743067,
          "hat_diag": 0.5533578641390997
         },
         {
          "Observation": 19,
          "cooks_d": 0.09520489898112364,
          "dffits": -1.0234553049997923,
          "hat_diag": 0.5111463151165401
         },
         {
          "Observation": 20,
          "cooks_d": 0.02248288219204098,
          "dffits": 0.47144538856895796,
          "hat_diag": 0.7155308901671935
         }
        ]
       },
       "encoding": {
        "x": {
         "field": "Observation",
         "type": "quantitative"
        },
        "y": {
         "field": "dffits",
         "type": "quantitative"
        }
       },
       "mark": {
        "size": 1,
        "type": "bar"
       },
       "title": "DFFITS"
      },
      "image/png": "[encoded data removed]",
      "text/plain": [
       "<VegaLite 3 object>\n",
       "\n",
       "If you see this message, it means the renderer has not been properly enabled\n",
       "for the frontend that you are using. For more information, see\n",
       "https://altair-viz.github.io/user_guide/troubleshooting.html\n"
      ]
     },
     "execution_count": 44,
     "metadata": {},
     "output_type": "execute_result"
    }
   ],
   "source": [
    "alt.Chart(infVals, title='DFFITS')\\\n",
    "    .mark_bar(size = 1)\\\n",
    "    .encode(x='Observation', y='dffits')"
   ]
  },
  {
   "cell_type": "markdown",
   "metadata": {},
   "source": [
    "From the above, it would seem that observations 4, 6, 8 and 13 are influential, according to the measures of Cook's Distance and DFFITS."
   ]
  },
  {
   "cell_type": "markdown",
   "metadata": {},
   "source": [
    "#### d)"
   ]
  },
  {
   "cell_type": "code",
   "execution_count": 45,
   "metadata": {},
   "outputs": [
    {
     "name": "stdout",
     "output_type": "stream",
     "text": [
      "Correlation Matrix:\n",
      "[[1.         0.64256489 0.72120346 0.53029855 0.34166074 0.64142698\n",
      "  0.9734384  0.93730365 0.93738963 0.9486833 ]\n",
      " [0.64256489 1.         0.84799712 0.66728898 0.56851086 0.74250474\n",
      "  0.61291929 0.64058842 0.5147156  0.59153462]\n",
      " [0.72120346 0.84799712 1.         0.83358679 0.78549816 0.89494229\n",
      "  0.74088248 0.68138565 0.71313477 0.69758125]\n",
      " [0.53029855 0.66728898 0.83358679 1.         0.81627961 0.86482022\n",
      "  0.52033589 0.56577028 0.49723139 0.50472945]\n",
      " [0.34166074 0.56851086 0.78549816 0.81627961 1.         0.69197526\n",
      "  0.3508304  0.32032685 0.36448103 0.3279379 ]\n",
      " [0.64142698 0.74250474 0.89494229 0.86482022 0.69197526 1.\n",
      "  0.63660705 0.6031766  0.60833479 0.6761234 ]\n",
      " [0.9734384  0.61291929 0.74088248 0.52033589 0.3508304  0.63660705\n",
      "  1.         0.91969464 0.96254776 0.94155453]\n",
      " [0.93730365 0.64058842 0.68138565 0.56577028 0.32032685 0.6031766\n",
      "  0.91969464 1.         0.87885739 0.89211022]\n",
      " [0.93738963 0.5147156  0.71313477 0.49723139 0.36448103 0.60833479\n",
      "  0.96254776 0.87885739 1.         0.89973928]\n",
      " [0.9486833  0.59153462 0.69758125 0.50472945 0.3279379  0.6761234\n",
      "  0.94155453 0.89211022 0.89973928 1.        ]]\n"
     ]
    }
   ],
   "source": [
    "c = cloud[['A', 'T', 'S', 'C', 'P', 'E', 'AS', 'AC', 'AP', 'AE']]\n",
    "cloudCentre = c/c.mean()\n",
    "X = np.array(cloudCentre)\n",
    "S = np.matmul(X.transpose(), X)\n",
    "r = np.zeros([len(c.columns), len(c.columns)])\n",
    "for i in range(len(c.columns)):\n",
    "    for j in range(len(c.columns)):\n",
    "        r[i,j] = S[i,j]/(np.sqrt(S[i,i]*S[j,j]))\n",
    "print('Correlation Matrix:')\n",
    "print(r)"
   ]
  },
  {
   "cell_type": "markdown",
   "metadata": {},
   "source": [
    "There are large correlations between various parameters, particularly A and the ones created from A (AS, AC, AP, AE). There's a strong correlation as well (above 0.8) between T and S, S and C, S and P, S and E, C and P, C and E, and some others."
   ]
  },
  {
   "cell_type": "code",
   "execution_count": 46,
   "metadata": {},
   "outputs": [
    {
     "name": "stdout",
     "output_type": "stream",
     "text": [
      "Diagonals of inverse of correlation matrix:\n",
      "34.312010956441455\n",
      "9.0806370108121\n",
      "33.85502877231934\n",
      "11.105083158282548\n",
      "7.09482539266636\n",
      "13.497634517098044\n",
      "43.498196075202024\n",
      "13.33345420944505\n",
      "22.921560267400583\n",
      "17.267988492816983\n"
     ]
    }
   ],
   "source": [
    "#print('Diagonals of inverse of correlation matrix:')\n",
    "# for i in range(3):\n",
    "#     print(f'{np.linalg.inv(r)[i,i]}')\n",
    "#try:\n",
    "invCorr = np.linalg.inv(r)\n",
    "print('Diagonals of inverse of correlation matrix:')\n",
    "for i in range(len(invCorr)):\n",
    "    print(invCorr[i,i])\n",
    "#except:\n",
    "    #print('The correlation matrix is singular and has no inverse.')"
   ]
  },
  {
   "cell_type": "markdown",
   "metadata": {},
   "source": [
    "Various elements of the diagonal of the inverse correlation matrix are above 5, one as high as 43.497 indicating strong multicollinearity."
   ]
  },
  {
   "cell_type": "code",
   "execution_count": 47,
   "metadata": {},
   "outputs": [
    {
     "data": {
      "text/plain": [
       "1698.8089256108183"
      ]
     },
     "execution_count": 47,
     "metadata": {},
     "output_type": "execute_result"
    }
   ],
   "source": [
    "cFit.condition_number"
   ]
  },
  {
   "cell_type": "markdown",
   "metadata": {},
   "source": [
    "The condition number is quite large, 1698.8089, indicating that there is a serious collinearity problem.\n",
    "\n",
    "At this stage it is probably necessary to change the variables being used in the model (probably removing the newly created composites) and creating new variables with C and it's collinears."
   ]
  }
 ],
 "metadata": {
  "kernelspec": {
   "display_name": "Python 3",
   "language": "python",
   "name": "python3"
  },
  "language_info": {
   "codemirror_mode": {
    "name": "ipython",
    "version": 3
   },
   "file_extension": ".py",
   "mimetype": "text/x-python",
   "name": "python",
   "nbconvert_exporter": "python",
   "pygments_lexer": "ipython3",
   "version": "3.6.5"
  }
 },
 "nbformat": 4,
 "nbformat_minor": 4
}
